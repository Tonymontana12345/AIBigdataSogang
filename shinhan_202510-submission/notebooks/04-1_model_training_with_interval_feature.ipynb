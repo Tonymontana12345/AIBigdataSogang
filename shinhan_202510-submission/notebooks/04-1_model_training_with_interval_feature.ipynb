{
 "cells": [
  {
   "cell_type": "markdown",
   "metadata": {},
   "source": [
    "# 모델 학습 및 평가 (Model Training & Evaluation)\n",
    "\n",
    "## 목표\n",
    "- 가맹점 폐업 예측 모델 학습\n",
    "- XGBoost, LightGBM 모델 비교\n",
    "- Hyperparameter tuning\n",
    "- Feature importance 분석\n",
    "- SHAP value 분석\n",
    "- 모델 평가 및 해석\n",
    "\n",
    "## 작업 내역\n",
    "1. 데이터 로드 및 전처리\n",
    "2. Train/Validation/Test Split (시계열 고려)\n",
    "3. 불균형 데이터 처리\n",
    "4. Baseline 모델 (XGBoost, LightGBM)\n",
    "5. Cross-validation\n",
    "6. Hyperparameter Tuning\n",
    "7. Feature Importance 분석\n",
    "8. SHAP Value 분석\n",
    "9. Ensemble 모델\n",
    "10. 최종 평가 및 모델 저장"
   ]
  },
  {
   "cell_type": "markdown",
   "metadata": {},
   "source": [
    "## 1. 환경 설정"
   ]
  },
  {
   "cell_type": "code",
   "execution_count": 84,
   "id": "4bf4116e",
   "metadata": {},
   "outputs": [
    {
     "name": "stdout",
     "output_type": "stream",
     "text": [
      "Libraries loaded successfully\n"
     ]
    }
   ],
   "source": [
    "# 기본 라이브러리\n",
    "import pandas as pd\n",
    "import numpy as np\n",
    "import matplotlib.pyplot as plt\n",
    "import seaborn as sns\n",
    "from pathlib import Path\n",
    "import warnings\n",
    "warnings.filterwarnings('ignore')\n",
    "\n",
    "# 머신러닝 라이브러리\n",
    "from sklearn.model_selection import train_test_split, TimeSeriesSplit, cross_val_score\n",
    "from sklearn.metrics import (\n",
    "    classification_report, confusion_matrix, \n",
    "    roc_auc_score, precision_recall_curve, auc,\n",
    "    precision_score, recall_score, f1_score, average_precision_score\n",
    ")\n",
    "from sklearn.preprocessing import StandardScaler\n",
    "from imblearn.over_sampling import SMOTE\n",
    "from imblearn.under_sampling import RandomUnderSampler\n",
    "from imblearn.pipeline import Pipeline as ImbPipeline\n",
    "\n",
    "# 모델\n",
    "import xgboost as xgb\n",
    "import lightgbm as lgb\n",
    "\n",
    "# SHAP\n",
    "import shap\n",
    "\n",
    "# 시각화 설정\n",
    "plt.style.use('default')\n",
    "sns.set_palette('husl')\n",
    "plt.rcParams['figure.figsize'] = (12, 6)\n",
    "plt.rcParams['font.family'] = 'AppleGothic'\n",
    "\n",
    "# 출력 설정\n",
    "pd.set_option('display.max_columns', 100)\n",
    "pd.set_option('display.max_rows', 100)\n",
    "\n",
    "print(\"Libraries loaded successfully\")"
   ]
  },
  {
   "cell_type": "code",
   "execution_count": 43,
   "id": "2281bd78",
   "metadata": {},
   "outputs": [
    {
     "name": "stdout",
     "output_type": "stream",
     "text": [
      "Custom modules loaded successfully\n"
     ]
    }
   ],
   "source": [
    "# 커스텀 모듈 임포트\n",
    "import sys\n",
    "sys.path.append('..')\n",
    "\n",
    "from pipeline.models import (\n",
    "    XGBoostModel,\n",
    "    LightGBMModel,\n",
    "    EnsembleModel\n",
    ")\n",
    "from pipeline.evaluation import (\n",
    "    ModelEvaluator,\n",
    "    calculate_metrics,\n",
    "    plot_roc_curve,\n",
    "    plot_precision_recall_curve,\n",
    "    plot_confusion_matrix\n",
    ")\n",
    "\n",
    "print(\"Custom modules loaded successfully\")"
   ]
  },
  {
   "cell_type": "markdown",
   "id": "52f22c47",
   "metadata": {},
   "source": [
    "## 2. 데이터 로드"
   ]
  },
  {
   "cell_type": "code",
   "execution_count": 44,
   "id": "b47a4124",
   "metadata": {},
   "outputs": [
    {
     "name": "stdout",
     "output_type": "stream",
     "text": [
      "Loaded data shape: (86590, 148)\n",
      "\n",
      "Columns: 148\n",
      "Rows: 86,590\n",
      "Unique merchants: 4,185\n",
      "Date range: 202301 ~ 202412\n"
     ]
    }
   ],
   "source": [
    "# Feature engineering 완료된 데이터 로드\n",
    "data_path = Path('../data/processed/featured_data_with_intervals.csv')\n",
    "\n",
    "if not data_path.exists():\n",
    "    print(\"Warning: featured_data.csv not found. Using preprocessed_data.csv instead.\")\n",
    "    data_path = Path('../data/processed/preprocessed_data.csv')\n",
    "\n",
    "df = pd.read_csv(data_path)\n",
    "\n",
    "print(f\"Loaded data shape: {df.shape}\")\n",
    "print(f\"\\nColumns: {len(df.columns)}\")\n",
    "print(f\"Rows: {len(df):,}\")\n",
    "print(f\"Unique merchants: {df['ENCODED_MCT'].nunique():,}\")\n",
    "print(f\"Date range: {df['TA_YM'].min()} ~ {df['TA_YM'].max()}\")"
   ]
  },
  {
   "cell_type": "code",
   "execution_count": 45,
   "id": "4d5b578d",
   "metadata": {},
   "outputs": [
    {
     "name": "stdout",
     "output_type": "stream",
     "text": [
      "\n",
      "Target variable: will_close_3m\n",
      "will_close_3m\n",
      "0    86494\n",
      "1       96\n",
      "Name: count, dtype: int64\n",
      "\n",
      "Positive rate: 0.11%\n"
     ]
    },
    {
     "data": {
      "image/png": "[encoded data removed]",
      "text/plain": [
       "<Figure size 800x500 with 1 Axes>"
      ]
     },
     "metadata": {},
     "output_type": "display_data"
    }
   ],
   "source": [
    "# 타겟 변수 분포 확인\n",
    "target_col = 'will_close_3m'\n",
    "\n",
    "if target_col in df.columns:\n",
    "    print(f\"\\nTarget variable: {target_col}\")\n",
    "    print(df[target_col].value_counts())\n",
    "    print(f\"\\nPositive rate: {df[target_col].mean() * 100:.2f}%\")\n",
    "    \n",
    "    # 시각화\n",
    "    fig, ax = plt.subplots(figsize=(8, 5))\n",
    "    counts = df[target_col].value_counts()\n",
    "    ax.bar(['Not Closed (0)', 'Closed (1)'], counts.values)\n",
    "    ax.set_ylabel('Count')\n",
    "    ax.set_title(f'Target Distribution: {target_col}')\n",
    "    for i, v in enumerate(counts.values):\n",
    "        ax.text(i, v, f'{v:,}\\n({v/len(df)*100:.1f}%)', ha='center', va='bottom')\n",
    "    plt.tight_layout()\n",
    "    plt.show()\n",
    "else:\n",
    "    print(f\"Warning: Target column '{target_col}' not found!\")"
   ]
  },
  {
   "cell_type": "markdown",
   "id": "b14359f8",
   "metadata": {},
   "source": [
    "## 3. Feature & Target 분리"
   ]
  },
  {
   "cell_type": "code",
   "execution_count": 46,
   "id": "e7610021",
   "metadata": {},
   "outputs": [
    {
     "name": "stdout",
     "output_type": "stream",
     "text": [
      "Total features: 134\n",
      "\n",
      "Feature columns (first 20): ['MCT_OPE_MS_CN', 'RC_M1_SAA', 'RC_M1_TO_UE_CT', 'RC_M1_UE_CUS_CN', 'RC_M1_AV_NP_AT', 'APV_CE_RAT', 'DLV_SAA_RAT', 'M1_SME_RY_SAA_RAT', 'M1_SME_RY_CNT_RAT', 'M12_SME_RY_SAA_PCE_RT', 'M12_SME_BZN_SAA_PCE_RT', 'M12_SME_RY_ME_MCT_RAT', 'M12_SME_BZN_ME_MCT_RAT', 'M12_MAL_1020_RAT', 'M12_MAL_30_RAT', 'M12_MAL_40_RAT', 'M12_MAL_50_RAT', 'M12_MAL_60_RAT', 'M12_FME_1020_RAT', 'M12_FME_30_RAT']\n"
     ]
    }
   ],
   "source": [
    "# 제외할 컬럼 정의\n",
    "exclude_cols = [\n",
    "    'ENCODED_MCT',  # ID\n",
    "    'TA_YM',  # Date\n",
    "    # 'is_closed' removed - no longer exists (data leakage)\n",
    "    'will_close_1m',  # Target (not primary)\n",
    "    'will_close_3m',  # Target (primary)\n",
    "    'is_valid_for_training',  # Training filter\n",
    "    'months_until_close',  # Leakage\n",
    "    'MCT_ME_D',  # Close date (leakage)\n",
    "    'MCT_BSE_AR',  # Text\n",
    "    'MCT_NM',  # Text\n",
    "    'MCT_BRD_NUM',  # Text\n",
    "    'MCT_SIGUNGU_NM',  # Text\n",
    "    'HPSN_MCT_ZCD_NM',  # Text\n",
    "    'HPSN_MCT_BZN_CD_NM',  # Text\n",
    "    'ARE_D',  # Date\n",
    "]\n",
    "\n",
    "# Feature 컬럼 선택 (수치형만)\n",
    "feature_cols = [col for col in df.columns if col not in exclude_cols]\n",
    "feature_cols = df[feature_cols].select_dtypes(include=[np.number]).columns.tolist()\n",
    "\n",
    "print(f\"Total features: {len(feature_cols)}\")\n",
    "print(f\"\\nFeature columns (first 20): {feature_cols[:20]}\")"
   ]
  },
  {
   "cell_type": "code",
   "execution_count": 47,
   "id": "9ad6fa78",
   "metadata": {},
   "outputs": [
    {
     "name": "stdout",
     "output_type": "stream",
     "text": [
      "X shape: (86590, 134)\n",
      "y shape: (86590,)\n",
      "\n",
      "y value counts:\n",
      "will_close_3m\n",
      "0    86494\n",
      "1       96\n",
      "Name: count, dtype: int64\n"
     ]
    }
   ],
   "source": [
    "# X, y 분리\n",
    "X = df[feature_cols].copy()\n",
    "y = df[target_col].copy()\n",
    "\n",
    "print(f\"X shape: {X.shape}\")\n",
    "print(f\"y shape: {y.shape}\")\n",
    "print(f\"\\ny value counts:\")\n",
    "print(y.value_counts())"
   ]
  },
  {
   "cell_type": "code",
   "execution_count": 48,
   "id": "6ceb67fa",
   "metadata": {},
   "outputs": [
    {
     "name": "stdout",
     "output_type": "stream",
     "text": [
      "\n",
      "Columns with missing values: 36\n",
      "\n",
      "Top 10 columns with highest missing ratio:\n",
      "RC_M1_SAA_total_decline_12m          54.259152\n",
      "RC_M1_AV_NP_AT_total_decline_12m     54.259152\n",
      "RC_M1_TO_UE_CT_total_decline_12m     54.259152\n",
      "RC_M1_UE_CUS_CN_total_decline_12m    54.259152\n",
      "RC_M1_UE_CUS_CN_decline_speed_6m     28.242291\n",
      "RC_M1_UE_CUS_CN_total_decline_6m     28.242291\n",
      "RC_M1_AV_NP_AT_decline_speed_6m      28.242291\n",
      "RC_M1_SAA_total_decline_6m           28.242291\n",
      "RC_M1_SAA_decline_speed_6m           28.242291\n",
      "RC_M1_AV_NP_AT_total_decline_6m      28.242291\n",
      "dtype: float64\n"
     ]
    }
   ],
   "source": [
    "# 결측값 확인\n",
    "missing_ratio = X.isnull().sum() / len(X) * 100\n",
    "missing_cols = missing_ratio[missing_ratio > 0].sort_values(ascending=False)\n",
    "\n",
    "if len(missing_cols) > 0:\n",
    "    print(f\"\\nColumns with missing values: {len(missing_cols)}\")\n",
    "    print(f\"\\nTop 10 columns with highest missing ratio:\")\n",
    "    print(missing_cols.head(10))\n",
    "else:\n",
    "    print(\"\\nNo missing values found\")"
   ]
  },
  {
   "cell_type": "code",
   "execution_count": 49,
   "id": "39fc59de",
   "metadata": {},
   "outputs": [
    {
     "name": "stdout",
     "output_type": "stream",
     "text": [
      "\n",
      "Filling missing values with median...\n",
      "Missing values after filling: 0\n"
     ]
    }
   ],
   "source": [
    "# 결측값 처리 (간단히 중앙값으로 대체)\n",
    "if X.isnull().sum().sum() > 0:\n",
    "    print(\"\\nFilling missing values with median...\")\n",
    "    X = X.fillna(X.median())\n",
    "    print(f\"Missing values after filling: {X.isnull().sum().sum()}\")"
   ]
  },
  {
   "cell_type": "markdown",
   "id": "57b97786",
   "metadata": {},
   "source": [
    "## 4. Train/Validation/Test Split\n",
    "\n",
    "시계열 데이터이므로 시간 순서를 고려하여 분할합니다.\n",
    "- Train: 2023년 데이터\n",
    "- Validation: 2024년 1~6월\n",
    "- Test: 2024년 7~12월"
   ]
  },
  {
   "cell_type": "code",
   "execution_count": 50,
   "id": "b0201bd5",
   "metadata": {},
   "outputs": [
    {
     "name": "stdout",
     "output_type": "stream",
     "text": [
      "Filtered to valid training data: 86,560 records\n",
      "Data split completed:\n",
      "\n",
      "Train: 39,778 samples, Positive: 45 (0.11%)\n",
      "Val:   22,479 samples, Positive: 29 (0.13%)\n",
      "Test:  24,303 samples, Positive: 22 (0.09%)\n"
     ]
    }
   ],
   "source": [
    "# ✅ Filter to use only valid training data (no data leakage)\n",
    "df_filtered = df[df['is_valid_for_training'] == 1].copy()\n",
    "print(f'Filtered to valid training data: {len(df_filtered):,} records')\n",
    "\n",
    "# Reset index for clean alignment\n",
    "df_filtered = df_filtered.reset_index(drop=True)\n",
    "\n",
    "# Update X and y with filtered data\n",
    "X_filtered = df_filtered[feature_cols].copy()\n",
    "y_filtered = df_filtered[target_col].copy()\n",
    "\n",
    "# 날짜 기반 분할\n",
    "# Train: 2023 (202301 ~ 202312)\n",
    "train_mask = (df_filtered['TA_YM'] >= 202301) & (df_filtered['TA_YM'] <= 202312)\n",
    "\n",
    "# Validation: 2024 Jan-Jun (202401 ~ 202406)\n",
    "val_mask = (df_filtered['TA_YM'] >= 202401) & (df_filtered['TA_YM'] <= 202406)\n",
    "\n",
    "# Test: 2024 Jul-Dec (202407 ~ 202412)\n",
    "test_mask = (df_filtered['TA_YM'] >= 202407) & (df_filtered['TA_YM'] <= 202412)\n",
    "\n",
    "X_train = X_filtered[train_mask]\n",
    "y_train = y_filtered[train_mask]\n",
    "\n",
    "X_val = X_filtered[val_mask]\n",
    "y_val = y_filtered[val_mask]\n",
    "\n",
    "X_test = X_filtered[test_mask]\n",
    "y_test = y_filtered[test_mask]\n",
    "\n",
    "print(\"Data split completed:\")\n",
    "print(f\"\\nTrain: {X_train.shape[0]:,} samples, Positive: {y_train.sum():,} ({y_train.mean()*100:.2f}%)\")\n",
    "print(f\"Val:   {X_val.shape[0]:,} samples, Positive: {y_val.sum():,} ({y_val.mean()*100:.2f}%)\")\n",
    "print(f\"Test:  {X_test.shape[0]:,} samples, Positive: {y_test.sum():,} ({y_test.mean()*100:.2f}%)\")"
   ]
  },
  {
   "cell_type": "markdown",
   "id": "2d598480",
   "metadata": {},
   "source": [
    "## 5. Baseline Models\n",
    "\n",
    "### 5.1 XGBoost Baseline"
   ]
  },
  {
   "cell_type": "code",
   "execution_count": 51,
   "id": "cbfc5534",
   "metadata": {},
   "outputs": [
    {
     "name": "stdout",
     "output_type": "stream",
     "text": [
      "Scale pos weight: 882.96\n",
      "XGBoost model initialized\n"
     ]
    }
   ],
   "source": [
    "# XGBoost 모델 초기화 (불균형 데이터 처리)\n",
    "scale_pos_weight = (y_train == 0).sum() / (y_train == 1).sum()\n",
    "print(f\"Scale pos weight: {scale_pos_weight:.2f}\")\n",
    "\n",
    "xgb_model = xgb.XGBClassifier(\n",
    "    objective='binary:logistic',\n",
    "    scale_pos_weight=scale_pos_weight,\n",
    "    max_depth=6,\n",
    "    learning_rate=0.1,\n",
    "    n_estimators=100,\n",
    "    random_state=42,\n",
    "    eval_metric='logloss'\n",
    ")\n",
    "\n",
    "print(\"XGBoost model initialized\")"
   ]
  },
  {
   "cell_type": "code",
   "execution_count": 52,
   "id": "3bba0bff",
   "metadata": {},
   "outputs": [
    {
     "name": "stdout",
     "output_type": "stream",
     "text": [
      "Training XGBoost model...\n"
     ]
    },
    {
     "name": "stdout",
     "output_type": "stream",
     "text": [
      "\n",
      "XGBoost training completed\n"
     ]
    }
   ],
   "source": [
    "# XGBoost 학습\n",
    "print(\"Training XGBoost model...\")\n",
    "\n",
    "xgb_model.fit(\n",
    "    X_train, y_train,\n",
    "    eval_set=[(X_train, y_train), (X_val, y_val)],\n",
    "    verbose=False\n",
    ")\n",
    "\n",
    "print(\"\\nXGBoost training completed\")"
   ]
  },
  {
   "cell_type": "code",
   "execution_count": 53,
   "id": "d8395d0f",
   "metadata": {},
   "outputs": [
    {
     "name": "stdout",
     "output_type": "stream",
     "text": [
      "XGBoost predictions completed\n"
     ]
    }
   ],
   "source": [
    "# XGBoost 예측\n",
    "y_train_pred_xgb = xgb_model.predict(X_train)\n",
    "y_val_pred_xgb = xgb_model.predict(X_val)\n",
    "y_test_pred_xgb = xgb_model.predict(X_test)\n",
    "\n",
    "y_train_pred_proba_xgb = xgb_model.predict_proba(X_train)[:, 1]\n",
    "y_val_pred_proba_xgb = xgb_model.predict_proba(X_val)[:, 1]\n",
    "y_test_pred_proba_xgb = xgb_model.predict_proba(X_test)[:, 1]\n",
    "\n",
    "print(\"XGBoost predictions completed\")"
   ]
  },
  {
   "cell_type": "code",
   "execution_count": 54,
   "id": "c3c730e5",
   "metadata": {},
   "outputs": [
    {
     "name": "stdout",
     "output_type": "stream",
     "text": [
      "================================================================================\n",
      "XGBoost - Train Set Evaluation\n",
      "================================================================================\n",
      "\n",
      "Precision: 0.8654\n",
      "Recall: 1.0000\n",
      "F1 Score: 0.9278\n",
      "ROC-AUC: 1.0000\n",
      "PR-AUC: 1.0000\n"
     ]
    }
   ],
   "source": [
    "# XGBoost 평가 - Train\n",
    "print(\"=\"*80)\n",
    "print(\"XGBoost - Train Set Evaluation\")\n",
    "print(\"=\"*80)\n",
    "print(f\"\\nPrecision: {precision_score(y_train, y_train_pred_xgb):.4f}\")\n",
    "print(f\"Recall: {recall_score(y_train, y_train_pred_xgb):.4f}\")\n",
    "print(f\"F1 Score: {f1_score(y_train, y_train_pred_xgb):.4f}\")\n",
    "print(f\"ROC-AUC: {roc_auc_score(y_train, y_train_pred_proba_xgb):.4f}\")\n",
    "print(f\"PR-AUC: {average_precision_score(y_train, y_train_pred_proba_xgb):.4f}\")"
   ]
  },
  {
   "cell_type": "code",
   "execution_count": 55,
   "id": "e10f26ff",
   "metadata": {},
   "outputs": [
    {
     "name": "stdout",
     "output_type": "stream",
     "text": [
      "================================================================================\n",
      "XGBoost - Validation Set Evaluation\n",
      "================================================================================\n",
      "\n",
      "Precision: 0.6667\n",
      "Recall: 0.0690\n",
      "F1 Score: 0.1250\n",
      "ROC-AUC: 0.7175\n",
      "PR-AUC: 0.0737\n",
      "\n",
      "Classification Report:\n",
      "              precision    recall  f1-score   support\n",
      "\n",
      "           0       1.00      1.00      1.00     22450\n",
      "           1       0.67      0.07      0.12        29\n",
      "\n",
      "    accuracy                           1.00     22479\n",
      "   macro avg       0.83      0.53      0.56     22479\n",
      "weighted avg       1.00      1.00      1.00     22479\n",
      "\n"
     ]
    }
   ],
   "source": [
    "# XGBoost 평가 - Validation\n",
    "print(\"=\"*80)\n",
    "print(\"XGBoost - Validation Set Evaluation\")\n",
    "print(\"=\"*80)\n",
    "print(f\"\\nPrecision: {precision_score(y_val, y_val_pred_xgb):.4f}\")\n",
    "print(f\"Recall: {recall_score(y_val, y_val_pred_xgb):.4f}\")\n",
    "print(f\"F1 Score: {f1_score(y_val, y_val_pred_xgb):.4f}\")\n",
    "print(f\"ROC-AUC: {roc_auc_score(y_val, y_val_pred_proba_xgb):.4f}\")\n",
    "print(f\"PR-AUC: {average_precision_score(y_val, y_val_pred_proba_xgb):.4f}\")\n",
    "\n",
    "print(\"\\nClassification Report:\")\n",
    "print(classification_report(y_val, y_val_pred_xgb))"
   ]
  },
  {
   "cell_type": "code",
   "execution_count": 56,
   "id": "d507d39b",
   "metadata": {},
   "outputs": [
    {
     "name": "stdout",
     "output_type": "stream",
     "text": [
      "================================================================================\n",
      "XGBoost - Test Set Evaluation\n",
      "================================================================================\n",
      "\n",
      "Precision: 0.0000\n",
      "Recall: 0.0000\n",
      "F1 Score: 0.0000\n",
      "ROC-AUC: 0.6222\n",
      "PR-AUC: 0.0015\n",
      "\n",
      "Classification Report:\n",
      "              precision    recall  f1-score   support\n",
      "\n",
      "           0       1.00      1.00      1.00     24281\n",
      "           1       0.00      0.00      0.00        22\n",
      "\n",
      "    accuracy                           1.00     24303\n",
      "   macro avg       0.50      0.50      0.50     24303\n",
      "weighted avg       1.00      1.00      1.00     24303\n",
      "\n"
     ]
    }
   ],
   "source": [
    "# XGBoost 평가 - Test\n",
    "print(\"=\"*80)\n",
    "print(\"XGBoost - Test Set Evaluation\")\n",
    "print(\"=\"*80)\n",
    "print(f\"\\nPrecision: {precision_score(y_test, y_test_pred_xgb):.4f}\")\n",
    "print(f\"Recall: {recall_score(y_test, y_test_pred_xgb):.4f}\")\n",
    "print(f\"F1 Score: {f1_score(y_test, y_test_pred_xgb):.4f}\")\n",
    "print(f\"ROC-AUC: {roc_auc_score(y_test, y_test_pred_proba_xgb):.4f}\")\n",
    "print(f\"PR-AUC: {average_precision_score(y_test, y_test_pred_proba_xgb):.4f}\")\n",
    "\n",
    "print(\"\\nClassification Report:\")\n",
    "print(classification_report(y_test, y_test_pred_xgb))"
   ]
  },
  {
   "cell_type": "markdown",
   "id": "cell-20a",
   "metadata": {},
   "source": [
    "### 5.3 XGBoost with Aggressive Recall Optimization\n",
    "\n",
    "**문제**: 현재 Recall이 0% - 실제 폐업 예정 가맹점을 전혀 탐지하지 못함\n",
    "\n",
    "**해결 전략**:\n",
    "1. `scale_pos_weight` 대폭 증가 (2x ~ 3x)\n",
    "2. Threshold 최적화 (0.5 → 최적값 탐색)\n",
    "3. F2-score 최대화 (Recall을 Precision보다 2배 중시)"
   ]
  },
  {
   "cell_type": "code",
   "execution_count": 57,
   "id": "cell-20b",
   "metadata": {},
   "outputs": [
    {
     "name": "stdout",
     "output_type": "stream",
     "text": [
      "Original scale_pos_weight: 882.96\n",
      "Aggressive scale_pos_weight: 1765.91\n",
      "\n",
      "Training XGBoost with aggressive recall optimization...\n",
      "Training completed\n"
     ]
    }
   ],
   "source": [
    "# Aggressive scale_pos_weight for recall\n",
    "aggressive_scale = scale_pos_weight * 2.0  # 2배 증가\n",
    "print(f\"Original scale_pos_weight: {scale_pos_weight:.2f}\")\n",
    "print(f\"Aggressive scale_pos_weight: {aggressive_scale:.2f}\")\n",
    "\n",
    "xgb_recall = xgb.XGBClassifier(\n",
    "    objective='binary:logistic',\n",
    "    scale_pos_weight=aggressive_scale,\n",
    "    max_depth=6,\n",
    "    learning_rate=0.1,\n",
    "    n_estimators=100,\n",
    "    random_state=42,\n",
    "    eval_metric='aucpr'  # PR-AUC for imbalanced data\n",
    ")\n",
    "\n",
    "print(\"\\nTraining XGBoost with aggressive recall optimization...\")\n",
    "xgb_recall.fit(\n",
    "    X_train, y_train,\n",
    "    eval_set=[(X_val, y_val)],\n",
    "    verbose=False\n",
    ")\n",
    "\n",
    "print(\"Training completed\")"
   ]
  },
  {
   "cell_type": "code",
   "execution_count": 58,
   "id": "cell-20c",
   "metadata": {},
   "outputs": [
    {
     "name": "stdout",
     "output_type": "stream",
     "text": [
      "Prediction probability distribution:\n",
      "Val - Min: 0.0000, Max: 0.9971, Mean: 0.0008\n",
      "Test - Min: 0.0000, Max: 0.7481, Mean: 0.0010\n"
     ]
    }
   ],
   "source": [
    "# Predict probabilities\n",
    "y_val_pred_proba_recall = xgb_recall.predict_proba(X_val)[:, 1]\n",
    "y_test_pred_proba_recall = xgb_recall.predict_proba(X_test)[:, 1]\n",
    "\n",
    "print(\"Prediction probability distribution:\")\n",
    "print(f\"Val - Min: {y_val_pred_proba_recall.min():.4f}, Max: {y_val_pred_proba_recall.max():.4f}, Mean: {y_val_pred_proba_recall.mean():.4f}\")\n",
    "print(f\"Test - Min: {y_test_pred_proba_recall.min():.4f}, Max: {y_test_pred_proba_recall.max():.4f}, Mean: {y_test_pred_proba_recall.mean():.4f}\")"
   ]
  },
  {
   "cell_type": "code",
   "execution_count": 59,
   "id": "cell-20d",
   "metadata": {},
   "outputs": [
    {
     "name": "stdout",
     "output_type": "stream",
     "text": [
      "Optimizing threshold for F2-score (recall-focused)...\n",
      "\n",
      "Best threshold: 0.4900\n",
      "Best F2-score: 0.0847\n",
      "Recall at best threshold: 0.0690\n",
      "Precision at best threshold: 1.0000\n"
     ]
    }
   ],
   "source": [
    "# Threshold optimization using F2-score (emphasizes recall)\n",
    "from sklearn.metrics import fbeta_score\n",
    "\n",
    "print(\"Optimizing threshold for F2-score (recall-focused)...\\n\")\n",
    "\n",
    "best_threshold = 0.5\n",
    "best_f2 = 0\n",
    "best_recall = 0\n",
    "best_precision = 0\n",
    "\n",
    "# Test different thresholds\n",
    "thresholds = np.linspace(0.01, 0.99, 99)\n",
    "results = []\n",
    "\n",
    "for threshold in thresholds:\n",
    "    y_val_pred = (y_val_pred_proba_recall >= threshold).astype(int)\n",
    "    \n",
    "    if y_val_pred.sum() == 0:  # No positive predictions\n",
    "        continue\n",
    "    \n",
    "    precision = precision_score(y_val, y_val_pred, zero_division=0)\n",
    "    recall = recall_score(y_val, y_val_pred, zero_division=0)\n",
    "    f2 = fbeta_score(y_val, y_val_pred, beta=2, zero_division=0)\n",
    "    \n",
    "    results.append({\n",
    "        'threshold': threshold,\n",
    "        'precision': precision,\n",
    "        'recall': recall,\n",
    "        'f2_score': f2\n",
    "    })\n",
    "    \n",
    "    if f2 > best_f2:\n",
    "        best_f2 = f2\n",
    "        best_threshold = threshold\n",
    "        best_recall = recall\n",
    "        best_precision = precision\n",
    "\n",
    "print(f\"Best threshold: {best_threshold:.4f}\")\n",
    "print(f\"Best F2-score: {best_f2:.4f}\")\n",
    "print(f\"Recall at best threshold: {best_recall:.4f}\")\n",
    "print(f\"Precision at best threshold: {best_precision:.4f}\")\n",
    "\n",
    "# Create DataFrame for analysis\n",
    "results_df = pd.DataFrame(results)"
   ]
  },
  {
   "cell_type": "code",
   "execution_count": 60,
   "id": "cell-20e",
   "metadata": {},
   "outputs": [
    {
     "data": {
      "image/png": "[encoded data removed]",
      "text/plain": [
       "<Figure size 1600x1000 with 4 Axes>"
      ]
     },
     "metadata": {},
     "output_type": "display_data"
    }
   ],
   "source": [
    "# Visualize threshold optimization\n",
    "fig, axes = plt.subplots(2, 2, figsize=(16, 10))\n",
    "\n",
    "# Plot 1: F2-score vs Threshold\n",
    "axes[0, 0].plot(results_df['threshold'], results_df['f2_score'], linewidth=2)\n",
    "axes[0, 0].axvline(best_threshold, color='red', linestyle='--', label=f'Best: {best_threshold:.3f}')\n",
    "axes[0, 0].set_xlabel('Threshold')\n",
    "axes[0, 0].set_ylabel('F2-score')\n",
    "axes[0, 0].set_title('F2-score vs Threshold')\n",
    "axes[0, 0].legend()\n",
    "axes[0, 0].grid(True, alpha=0.3)\n",
    "\n",
    "# Plot 2: Recall vs Threshold\n",
    "axes[0, 1].plot(results_df['threshold'], results_df['recall'], linewidth=2, color='green')\n",
    "axes[0, 1].axvline(best_threshold, color='red', linestyle='--', label=f'Best: {best_threshold:.3f}')\n",
    "axes[0, 1].set_xlabel('Threshold')\n",
    "axes[0, 1].set_ylabel('Recall')\n",
    "axes[0, 1].set_title('Recall vs Threshold')\n",
    "axes[0, 1].legend()\n",
    "axes[0, 1].grid(True, alpha=0.3)\n",
    "\n",
    "# Plot 3: Precision vs Threshold\n",
    "axes[1, 0].plot(results_df['threshold'], results_df['precision'], linewidth=2, color='orange')\n",
    "axes[1, 0].axvline(best_threshold, color='red', linestyle='--', label=f'Best: {best_threshold:.3f}')\n",
    "axes[1, 0].set_xlabel('Threshold')\n",
    "axes[1, 0].set_ylabel('Precision')\n",
    "axes[1, 0].set_title('Precision vs Threshold')\n",
    "axes[1, 0].legend()\n",
    "axes[1, 0].grid(True, alpha=0.3)\n",
    "\n",
    "# Plot 4: Precision-Recall Trade-off\n",
    "axes[1, 1].plot(results_df['recall'], results_df['precision'], linewidth=2)\n",
    "axes[1, 1].scatter([best_recall], [best_precision], color='red', s=100, zorder=5, label=f'Best (T={best_threshold:.3f})')\n",
    "axes[1, 1].set_xlabel('Recall')\n",
    "axes[1, 1].set_ylabel('Precision')\n",
    "axes[1, 1].set_title('Precision-Recall Trade-off')\n",
    "axes[1, 1].legend()\n",
    "axes[1, 1].grid(True, alpha=0.3)\n",
    "\n",
    "plt.tight_layout()\n",
    "plt.show()"
   ]
  },
  {
   "cell_type": "code",
   "execution_count": 61,
   "id": "cell-20f",
   "metadata": {},
   "outputs": [
    {
     "name": "stdout",
     "output_type": "stream",
     "text": [
      "================================================================================\n",
      "XGBoost (Recall Optimized) - Validation Set\n",
      "================================================================================\n",
      "\n",
      "Optimized Threshold: 0.4900\n",
      "\n",
      "Precision: 1.0000\n",
      "Recall: 0.0690\n",
      "F1 Score: 0.1290\n",
      "F2 Score: 0.0847\n",
      "ROC-AUC: 0.7523\n",
      "PR-AUC: 0.0746\n",
      "\n",
      "Classification Report:\n",
      "              precision    recall  f1-score   support\n",
      "\n",
      "           0       1.00      1.00      1.00     22450\n",
      "           1       1.00      0.07      0.13        29\n",
      "\n",
      "    accuracy                           1.00     22479\n",
      "   macro avg       1.00      0.53      0.56     22479\n",
      "weighted avg       1.00      1.00      1.00     22479\n",
      "\n",
      "\n",
      "Confusion Matrix:\n",
      "[[22450     0]\n",
      " [   27     2]]\n",
      "\n",
      "True Negatives: 22,450\n",
      "False Positives: 0\n",
      "False Negatives: 27\n",
      "True Positives: 2\n"
     ]
    }
   ],
   "source": [
    "# Evaluate on Validation set with optimized threshold\n",
    "y_val_pred_optimized = (y_val_pred_proba_recall >= best_threshold).astype(int)\n",
    "\n",
    "print(\"=\"*80)\n",
    "print(\"XGBoost (Recall Optimized) - Validation Set\")\n",
    "print(\"=\"*80)\n",
    "print(f\"\\nOptimized Threshold: {best_threshold:.4f}\")\n",
    "print(f\"\\nPrecision: {precision_score(y_val, y_val_pred_optimized):.4f}\")\n",
    "print(f\"Recall: {recall_score(y_val, y_val_pred_optimized):.4f}\")\n",
    "print(f\"F1 Score: {f1_score(y_val, y_val_pred_optimized):.4f}\")\n",
    "print(f\"F2 Score: {fbeta_score(y_val, y_val_pred_optimized, beta=2):.4f}\")\n",
    "print(f\"ROC-AUC: {roc_auc_score(y_val, y_val_pred_proba_recall):.4f}\")\n",
    "print(f\"PR-AUC: {average_precision_score(y_val, y_val_pred_proba_recall):.4f}\")\n",
    "\n",
    "print(\"\\nClassification Report:\")\n",
    "print(classification_report(y_val, y_val_pred_optimized))\n",
    "\n",
    "# Confusion Matrix\n",
    "cm = confusion_matrix(y_val, y_val_pred_optimized)\n",
    "print(\"\\nConfusion Matrix:\")\n",
    "print(cm)\n",
    "print(f\"\\nTrue Negatives: {cm[0,0]:,}\")\n",
    "print(f\"False Positives: {cm[0,1]:,}\")\n",
    "print(f\"False Negatives: {cm[1,0]:,}\")\n",
    "print(f\"True Positives: {cm[1,1]:,}\")"
   ]
  },
  {
   "cell_type": "code",
   "execution_count": 62,
   "id": "cell-20g",
   "metadata": {},
   "outputs": [
    {
     "name": "stdout",
     "output_type": "stream",
     "text": [
      "================================================================================\n",
      "XGBoost (Recall Optimized) - Test Set\n",
      "================================================================================\n",
      "\n",
      "Optimized Threshold: 0.4900\n",
      "\n",
      "Precision: 0.0000\n",
      "Recall: 0.0000\n",
      "F1 Score: 0.0000\n",
      "F2 Score: 0.0000\n",
      "ROC-AUC: 0.6526\n",
      "PR-AUC: 0.0018\n",
      "\n",
      "Classification Report:\n",
      "              precision    recall  f1-score   support\n",
      "\n",
      "           0       1.00      1.00      1.00     24281\n",
      "           1       0.00      0.00      0.00        22\n",
      "\n",
      "    accuracy                           1.00     24303\n",
      "   macro avg       0.50      0.50      0.50     24303\n",
      "weighted avg       1.00      1.00      1.00     24303\n",
      "\n",
      "\n",
      "Confusion Matrix:\n",
      "[[24278     3]\n",
      " [   22     0]]\n",
      "\n",
      "True Negatives: 24,278\n",
      "False Positives: 3\n",
      "False Negatives: 22\n",
      "True Positives: 0\n"
     ]
    }
   ],
   "source": [
    "# Evaluate on Test set with optimized threshold\n",
    "y_test_pred_optimized = (y_test_pred_proba_recall >= best_threshold).astype(int)\n",
    "\n",
    "print(\"=\"*80)\n",
    "print(\"XGBoost (Recall Optimized) - Test Set\")\n",
    "print(\"=\"*80)\n",
    "print(f\"\\nOptimized Threshold: {best_threshold:.4f}\")\n",
    "print(f\"\\nPrecision: {precision_score(y_test, y_test_pred_optimized):.4f}\")\n",
    "print(f\"Recall: {recall_score(y_test, y_test_pred_optimized):.4f}\")\n",
    "print(f\"F1 Score: {f1_score(y_test, y_test_pred_optimized):.4f}\")\n",
    "print(f\"F2 Score: {fbeta_score(y_test, y_test_pred_optimized, beta=2):.4f}\")\n",
    "print(f\"ROC-AUC: {roc_auc_score(y_test, y_test_pred_proba_recall):.4f}\")\n",
    "print(f\"PR-AUC: {average_precision_score(y_test, y_test_pred_proba_recall):.4f}\")\n",
    "\n",
    "print(\"\\nClassification Report:\")\n",
    "print(classification_report(y_test, y_test_pred_optimized))\n",
    "\n",
    "# Confusion Matrix\n",
    "cm = confusion_matrix(y_test, y_test_pred_optimized)\n",
    "print(\"\\nConfusion Matrix:\")\n",
    "print(cm)\n",
    "print(f\"\\nTrue Negatives: {cm[0,0]:,}\")\n",
    "print(f\"False Positives: {cm[0,1]:,}\")\n",
    "print(f\"False Negatives: {cm[1,0]:,}\")\n",
    "print(f\"True Positives: {cm[1,1]:,}\")"
   ]
  },
  {
   "cell_type": "markdown",
   "id": "cell-20h",
   "metadata": {},
   "source": [
    "### 5.4 Performance Comparison\n",
    "\n",
    "Baseline vs Recall-Optimized 모델 비교"
   ]
  },
  {
   "cell_type": "code",
   "execution_count": 63,
   "id": "cell-20i",
   "metadata": {},
   "outputs": [
    {
     "name": "stdout",
     "output_type": "stream",
     "text": [
      "\n",
      "Model Comparison:\n",
      "================================================================================\n"
     ]
    },
    {
     "data": {
      "text/html": [
       "<div>\n",
       "<style scoped>\n",
       "    .dataframe tbody tr th:only-of-type {\n",
       "        vertical-align: middle;\n",
       "    }\n",
       "\n",
       "    .dataframe tbody tr th {\n",
       "        vertical-align: top;\n",
       "    }\n",
       "\n",
       "    .dataframe thead th {\n",
       "        text-align: right;\n",
       "    }\n",
       "</style>\n",
       "<table border=\"1\" class=\"dataframe\">\n",
       "  <thead>\n",
       "    <tr style=\"text-align: right;\">\n",
       "      <th></th>\n",
       "      <th>Model</th>\n",
       "      <th>Threshold</th>\n",
       "      <th>Val Precision</th>\n",
       "      <th>Val Recall</th>\n",
       "      <th>Val F1</th>\n",
       "      <th>Val F2</th>\n",
       "      <th>Test Precision</th>\n",
       "      <th>Test Recall</th>\n",
       "      <th>Test F1</th>\n",
       "      <th>Test F2</th>\n",
       "    </tr>\n",
       "  </thead>\n",
       "  <tbody>\n",
       "    <tr>\n",
       "      <th>0</th>\n",
       "      <td>XGBoost Baseline (T=0.5)</td>\n",
       "      <td>0.50</td>\n",
       "      <td>0.6667</td>\n",
       "      <td>0.069</td>\n",
       "      <td>0.125</td>\n",
       "      <td>0.0840</td>\n",
       "      <td>0.0</td>\n",
       "      <td>0.0</td>\n",
       "      <td>0.0</td>\n",
       "      <td>0.0</td>\n",
       "    </tr>\n",
       "    <tr>\n",
       "      <th>1</th>\n",
       "      <td>XGBoost Recall-Optimized</td>\n",
       "      <td>0.49</td>\n",
       "      <td>1.0000</td>\n",
       "      <td>0.069</td>\n",
       "      <td>0.129</td>\n",
       "      <td>0.0847</td>\n",
       "      <td>0.0</td>\n",
       "      <td>0.0</td>\n",
       "      <td>0.0</td>\n",
       "      <td>0.0</td>\n",
       "    </tr>\n",
       "  </tbody>\n",
       "</table>\n",
       "</div>"
      ],
      "text/plain": [
       "                      Model  Threshold  Val Precision  Val Recall  Val F1  \\\n",
       "0  XGBoost Baseline (T=0.5)       0.50         0.6667       0.069   0.125   \n",
       "1  XGBoost Recall-Optimized       0.49         1.0000       0.069   0.129   \n",
       "\n",
       "   Val F2  Test Precision  Test Recall  Test F1  Test F2  \n",
       "0  0.0840             0.0          0.0      0.0      0.0  \n",
       "1  0.0847             0.0          0.0      0.0      0.0  "
      ]
     },
     "metadata": {},
     "output_type": "display_data"
    },
    {
     "name": "stdout",
     "output_type": "stream",
     "text": [
      "\n",
      "Recall Improvement: +0.0%\n",
      "F2-score Improvement: +0.0%\n"
     ]
    }
   ],
   "source": [
    "# Compare baseline vs optimized\n",
    "comparison = pd.DataFrame({\n",
    "    'Model': ['XGBoost Baseline (T=0.5)', 'XGBoost Recall-Optimized'],\n",
    "    'Threshold': [0.5, best_threshold],\n",
    "    'Val Precision': [\n",
    "        precision_score(y_val, y_val_pred_xgb),\n",
    "        precision_score(y_val, y_val_pred_optimized)\n",
    "    ],\n",
    "    'Val Recall': [\n",
    "        recall_score(y_val, y_val_pred_xgb),\n",
    "        recall_score(y_val, y_val_pred_optimized)\n",
    "    ],\n",
    "    'Val F1': [\n",
    "        f1_score(y_val, y_val_pred_xgb),\n",
    "        f1_score(y_val, y_val_pred_optimized)\n",
    "    ],\n",
    "    'Val F2': [\n",
    "        fbeta_score(y_val, y_val_pred_xgb, beta=2),\n",
    "        fbeta_score(y_val, y_val_pred_optimized, beta=2)\n",
    "    ],\n",
    "    'Test Precision': [\n",
    "        precision_score(y_test, y_test_pred_xgb),\n",
    "        precision_score(y_test, y_test_pred_optimized)\n",
    "    ],\n",
    "    'Test Recall': [\n",
    "        recall_score(y_test, y_test_pred_xgb),\n",
    "        recall_score(y_test, y_test_pred_optimized)\n",
    "    ],\n",
    "    'Test F1': [\n",
    "        f1_score(y_test, y_test_pred_xgb),\n",
    "        f1_score(y_test, y_test_pred_optimized)\n",
    "    ],\n",
    "    'Test F2': [\n",
    "        fbeta_score(y_test, y_test_pred_xgb, beta=2),\n",
    "        fbeta_score(y_test, y_test_pred_optimized, beta=2)\n",
    "    ]\n",
    "})\n",
    "\n",
    "print(\"\\nModel Comparison:\")\n",
    "print(\"=\"*80)\n",
    "display(comparison.round(4))\n",
    "\n",
    "# Calculate improvement\n",
    "recall_improvement = (comparison.loc[1, 'Test Recall'] - comparison.loc[0, 'Test Recall']) / (comparison.loc[0, 'Test Recall'] + 1e-10) * 100\n",
    "f2_improvement = (comparison.loc[1, 'Test F2'] - comparison.loc[0, 'Test F2']) / (comparison.loc[0, 'Test F2'] + 1e-10) * 100\n",
    "\n",
    "print(f\"\\nRecall Improvement: {recall_improvement:+.1f}%\")\n",
    "print(f\"F2-score Improvement: {f2_improvement:+.1f}%\")"
   ]
  },
  {
   "cell_type": "markdown",
   "id": "adinty0i90k",
   "metadata": {},
   "source": [
    "### 5.5 SMOTE Oversampling for Extreme Imbalance\n",
    "\n",
    "**문제 분석**: \n",
    "- Training data: 45 positive / 39,778 total (0.11% 양성률)\n",
    "- Prediction probabilities 극도로 낮음 (평균 0.0008)\n",
    "- scale_pos_weight와 threshold 조정만으로는 불충분\n",
    "\n",
    "**해결책**: SMOTE (Synthetic Minority Over-sampling Technique)\n",
    "- 소수 클래스의 합성 샘플 생성\n",
    "- sampling_strategy=0.3: 양성 클래스를 30%로 증가 (0.11% → 30%)\n",
    "- 모델이 양성 클래스 패턴을 더 잘 학습할 수 있도록 함"
   ]
  },
  {
   "cell_type": "code",
   "execution_count": 64,
   "id": "9ybws8cm8f",
   "metadata": {},
   "outputs": [
    {
     "name": "stdout",
     "output_type": "stream",
     "text": [
      "Missing values in X_train_smote: 495445\n",
      "⚠️ WARNING: X_train_smote contains missing values. Using SimpleImputer...\n",
      "  Found 4 columns with all NaN values. Dropping them:\n",
      "  ['RC_M1_SAA_total_decline_12m', 'RC_M1_TO_UE_CT_total_decline_12m', 'RC_M1_UE_CUS_CN_total_decline_12m', 'RC_M1_AV_NP_AT_total_decline_12m']\n",
      "✅ Missing values after imputation: 0\n",
      "\n",
      "Original training data:\n",
      "  Total samples: 39,778\n",
      "  Positive: 45 (0.11%)\n",
      "  Negative: 39,733\n",
      "  Features: 130\n",
      "\n",
      "Applying SMOTE with sampling_strategy=0.3...\n",
      "\n",
      "✅ SMOTE completed successfully!\n",
      "\n",
      "Resampled training data:\n",
      "  Total samples: 51,652\n",
      "  Positive: 11,919 (23.08%)\n",
      "  Negative: 39,733\n",
      "\n",
      "📊 Synthetic samples created: 11,874\n",
      "\n",
      "✅ Original X_train unchanged: (39778, 134)\n"
     ]
    }
   ],
   "source": [
    "# Apply SMOTE to training data\n",
    "from imblearn.over_sampling import SMOTE\n",
    "from sklearn.impute import SimpleImputer\n",
    "\n",
    "# ✅ Work on COPIES to avoid modifying original X_train, X_val, X_test\n",
    "X_train_smote = X_train.copy()\n",
    "X_val_smote = X_val.copy()\n",
    "X_test_smote = X_test.copy()\n",
    "\n",
    "print(f\"Missing values in X_train_smote: {X_train_smote.isnull().sum().sum()}\")\n",
    "\n",
    "if X_train_smote.isnull().sum().sum() > 0:\n",
    "    print(\"⚠️ WARNING: X_train_smote contains missing values. Using SimpleImputer...\")\n",
    "    \n",
    "    # Check for columns with all NaN\n",
    "    all_nan_cols = X_train_smote.columns[X_train_smote.isnull().all()].tolist()\n",
    "    if len(all_nan_cols) > 0:\n",
    "        print(f\"  Found {len(all_nan_cols)} columns with all NaN values. Dropping them:\")\n",
    "        print(f\"  {all_nan_cols[:5]}{'...' if len(all_nan_cols) > 5 else ''}\")\n",
    "        \n",
    "        # Drop from all three sets\n",
    "        X_train_smote = X_train_smote.drop(columns=all_nan_cols)\n",
    "        X_val_smote = X_val_smote.drop(columns=all_nan_cols)\n",
    "        X_test_smote = X_test_smote.drop(columns=all_nan_cols)\n",
    "    \n",
    "    # Use SimpleImputer with median strategy\n",
    "    imputer = SimpleImputer(strategy='median', add_indicator=False)\n",
    "    \n",
    "    # Fit on train, transform all three sets\n",
    "    X_train_imputed = imputer.fit_transform(X_train_smote)\n",
    "    X_val_imputed = imputer.transform(X_val_smote)\n",
    "    X_test_imputed = imputer.transform(X_test_smote)\n",
    "    \n",
    "    # Convert back to DataFrame\n",
    "    X_train_smote = pd.DataFrame(X_train_imputed, columns=X_train_smote.columns, index=X_train_smote.index)\n",
    "    X_val_smote = pd.DataFrame(X_val_imputed, columns=X_val_smote.columns, index=X_val_smote.index)\n",
    "    X_test_smote = pd.DataFrame(X_test_imputed, columns=X_test_smote.columns, index=X_test_smote.index)\n",
    "    \n",
    "    print(f\"✅ Missing values after imputation: {X_train_smote.isnull().sum().sum()}\")\n",
    "\n",
    "print(\"\\nOriginal training data:\")\n",
    "print(f\"  Total samples: {len(X_train_smote):,}\")\n",
    "print(f\"  Positive: {y_train.sum():,} ({y_train.mean()*100:.2f}%)\")\n",
    "print(f\"  Negative: {(y_train == 0).sum():,}\")\n",
    "print(f\"  Features: {X_train_smote.shape[1]}\")\n",
    "\n",
    "# Create SMOTE sampler with sampling_strategy=0.3\n",
    "smote = SMOTE(sampling_strategy=0.3, random_state=42, k_neighbors=5)\n",
    "\n",
    "print(\"\\nApplying SMOTE with sampling_strategy=0.3...\")\n",
    "X_train_resampled, y_train_resampled = smote.fit_resample(X_train_smote, y_train)\n",
    "\n",
    "print(\"\\n✅ SMOTE completed successfully!\")\n",
    "print(\"\\nResampled training data:\")\n",
    "print(f\"  Total samples: {len(X_train_resampled):,}\")\n",
    "print(f\"  Positive: {y_train_resampled.sum():,} ({y_train_resampled.mean()*100:.2f}%)\")\n",
    "print(f\"  Negative: {(y_train_resampled == 0).sum():,}\")\n",
    "print(f\"\\n📊 Synthetic samples created: {y_train_resampled.sum() - y_train.sum():,}\")\n",
    "\n",
    "print(f\"\\n✅ Original X_train unchanged: {X_train.shape}\")"
   ]
  },
  {
   "cell_type": "code",
   "execution_count": 65,
   "id": "48i96okmvz1",
   "metadata": {},
   "outputs": [
    {
     "name": "stdout",
     "output_type": "stream",
     "text": [
      "Training data shapes:\n",
      "  X_train_resampled: (51652, 130)\n",
      "  X_val_smote: (22479, 130)\n",
      "  X_test_smote: (24303, 130)\n",
      "\n",
      "New scale_pos_weight after SMOTE: 3.33\n",
      "Original scale_pos_weight: 882.96\n",
      "\n",
      "Training XGBoost on SMOTE-resampled data...\n",
      "✅ Training completed\n"
     ]
    }
   ],
   "source": [
    "# Train XGBoost on SMOTE-resampled data\n",
    "\n",
    "print(f\"Training data shapes:\")\n",
    "print(f\"  X_train_resampled: {X_train_resampled.shape}\")\n",
    "print(f\"  X_val_smote: {X_val_smote.shape}\")\n",
    "print(f\"  X_test_smote: {X_test_smote.shape}\")\n",
    "\n",
    "# Reduce scale_pos_weight since SMOTE already balanced the data\n",
    "new_scale_pos_weight = (y_train_resampled == 0).sum() / (y_train_resampled == 1).sum()\n",
    "print(f\"\\nNew scale_pos_weight after SMOTE: {new_scale_pos_weight:.2f}\")\n",
    "print(f\"Original scale_pos_weight: {scale_pos_weight:.2f}\")\n",
    "\n",
    "xgb_smote = xgb.XGBClassifier(\n",
    "    objective='binary:logistic',\n",
    "    scale_pos_weight=new_scale_pos_weight,  # Adjusted for resampled data\n",
    "    max_depth=6,\n",
    "    learning_rate=0.1,\n",
    "    n_estimators=100,\n",
    "    random_state=42,\n",
    "    eval_metric='aucpr'\n",
    ")\n",
    "\n",
    "print(\"\\nTraining XGBoost on SMOTE-resampled data...\")\n",
    "xgb_smote.fit(\n",
    "    X_train_resampled, y_train_resampled,\n",
    "    eval_set=[(X_val_smote, y_val)],\n",
    "    verbose=False\n",
    ")\n",
    "\n",
    "print(\"✅ Training completed\")"
   ]
  },
  {
   "cell_type": "code",
   "execution_count": 66,
   "id": "sripiik45m",
   "metadata": {},
   "outputs": [
    {
     "name": "stdout",
     "output_type": "stream",
     "text": [
      "Prediction probability distribution (SMOTE model):\n",
      "Val  - Min: 0.0000, Max: 0.6297, Mean: 0.0008\n",
      "Test - Min: 0.0000, Max: 0.6641, Mean: 0.0008\n",
      "\n",
      "Comparison with previous model:\n",
      "Previous (no SMOTE) - Val Mean: 0.0008, Test Mean: 0.0010\n",
      "Current (SMOTE)     - Val Mean: 0.0008, Test Mean: 0.0008\n",
      "\n",
      "📈 Probability improvement:\n",
      "  Validation: +0.0%\n",
      "  Test: -20.5%\n"
     ]
    }
   ],
   "source": [
    "# Predict probabilities with SMOTE model\n",
    "y_val_pred_proba_smote = xgb_smote.predict_proba(X_val_smote)[:, 1]\n",
    "y_test_pred_proba_smote = xgb_smote.predict_proba(X_test_smote)[:, 1]\n",
    "\n",
    "print(\"Prediction probability distribution (SMOTE model):\")\n",
    "print(f\"Val  - Min: {y_val_pred_proba_smote.min():.4f}, Max: {y_val_pred_proba_smote.max():.4f}, Mean: {y_val_pred_proba_smote.mean():.4f}\")\n",
    "print(f\"Test - Min: {y_test_pred_proba_smote.min():.4f}, Max: {y_test_pred_proba_smote.max():.4f}, Mean: {y_test_pred_proba_smote.mean():.4f}\")\n",
    "\n",
    "print(\"\\nComparison with previous model:\")\n",
    "print(f\"Previous (no SMOTE) - Val Mean: {y_val_pred_proba_recall.mean():.4f}, Test Mean: {y_test_pred_proba_recall.mean():.4f}\")\n",
    "print(f\"Current (SMOTE)     - Val Mean: {y_val_pred_proba_smote.mean():.4f}, Test Mean: {y_test_pred_proba_smote.mean():.4f}\")\n",
    "\n",
    "# Check improvement\n",
    "val_improvement = (y_val_pred_proba_smote.mean() / y_val_pred_proba_recall.mean() - 1) * 100\n",
    "test_improvement = (y_test_pred_proba_smote.mean() / y_test_pred_proba_recall.mean() - 1) * 100\n",
    "print(f\"\\n📈 Probability improvement:\")\n",
    "print(f\"  Validation: {val_improvement:+.1f}%\")\n",
    "print(f\"  Test: {test_improvement:+.1f}%\")"
   ]
  },
  {
   "cell_type": "code",
   "execution_count": 67,
   "id": "mxmcd11rd7",
   "metadata": {},
   "outputs": [
    {
     "name": "stdout",
     "output_type": "stream",
     "text": [
      "Optimizing threshold for SMOTE model (F2-score)...\n",
      "\n",
      "Best threshold (SMOTE): 0.4300\n",
      "Best F2-score: 0.0427\n",
      "Recall at best threshold: 0.0345\n",
      "Precision at best threshold: 1.0000\n"
     ]
    }
   ],
   "source": [
    "# Optimize threshold for SMOTE model using F2-score\n",
    "print(\"Optimizing threshold for SMOTE model (F2-score)...\\n\")\n",
    "\n",
    "best_threshold_smote = 0.5\n",
    "best_f2_smote = 0\n",
    "best_recall_smote = 0\n",
    "best_precision_smote = 0\n",
    "\n",
    "results_smote = []\n",
    "\n",
    "for threshold in thresholds:\n",
    "    y_val_pred = (y_val_pred_proba_smote >= threshold).astype(int)\n",
    "    \n",
    "    if y_val_pred.sum() == 0:\n",
    "        continue\n",
    "    \n",
    "    precision = precision_score(y_val, y_val_pred, zero_division=0)\n",
    "    recall = recall_score(y_val, y_val_pred, zero_division=0)\n",
    "    f2 = fbeta_score(y_val, y_val_pred, beta=2, zero_division=0)\n",
    "    \n",
    "    results_smote.append({\n",
    "        'threshold': threshold,\n",
    "        'precision': precision,\n",
    "        'recall': recall,\n",
    "        'f2_score': f2\n",
    "    })\n",
    "    \n",
    "    if f2 > best_f2_smote:\n",
    "        best_f2_smote = f2\n",
    "        best_threshold_smote = threshold\n",
    "        best_recall_smote = recall\n",
    "        best_precision_smote = precision\n",
    "\n",
    "print(f\"Best threshold (SMOTE): {best_threshold_smote:.4f}\")\n",
    "print(f\"Best F2-score: {best_f2_smote:.4f}\")\n",
    "print(f\"Recall at best threshold: {best_recall_smote:.4f}\")\n",
    "print(f\"Precision at best threshold: {best_precision_smote:.4f}\")\n",
    "\n",
    "results_smote_df = pd.DataFrame(results_smote)"
   ]
  },
  {
   "cell_type": "code",
   "execution_count": 68,
   "id": "kq0ahr97ba",
   "metadata": {},
   "outputs": [
    {
     "data": {
      "image/png": "[encoded data removed]",
      "text/plain": [
       "<Figure size 1600x1000 with 4 Axes>"
      ]
     },
     "metadata": {},
     "output_type": "display_data"
    }
   ],
   "source": [
    "# Visualize SMOTE model threshold optimization\n",
    "fig, axes = plt.subplots(2, 2, figsize=(16, 10))\n",
    "\n",
    "# Plot 1: F2-score vs Threshold\n",
    "axes[0, 0].plot(results_smote_df['threshold'], results_smote_df['f2_score'], linewidth=2, color='purple')\n",
    "axes[0, 0].axvline(best_threshold_smote, color='red', linestyle='--', label=f'Best: {best_threshold_smote:.3f}')\n",
    "axes[0, 0].set_xlabel('Threshold')\n",
    "axes[0, 0].set_ylabel('F2-score')\n",
    "axes[0, 0].set_title('F2-score vs Threshold (SMOTE Model)')\n",
    "axes[0, 0].legend()\n",
    "axes[0, 0].grid(True, alpha=0.3)\n",
    "\n",
    "# Plot 2: Recall vs Threshold\n",
    "axes[0, 1].plot(results_smote_df['threshold'], results_smote_df['recall'], linewidth=2, color='green')\n",
    "axes[0, 1].axvline(best_threshold_smote, color='red', linestyle='--', label=f'Best: {best_threshold_smote:.3f}')\n",
    "axes[0, 1].set_xlabel('Threshold')\n",
    "axes[0, 1].set_ylabel('Recall')\n",
    "axes[0, 1].set_title('Recall vs Threshold (SMOTE Model)')\n",
    "axes[0, 1].legend()\n",
    "axes[0, 1].grid(True, alpha=0.3)\n",
    "\n",
    "# Plot 3: Precision vs Threshold\n",
    "axes[1, 0].plot(results_smote_df['threshold'], results_smote_df['precision'], linewidth=2, color='orange')\n",
    "axes[1, 0].axvline(best_threshold_smote, color='red', linestyle='--', label=f'Best: {best_threshold_smote:.3f}')\n",
    "axes[1, 0].set_xlabel('Threshold')\n",
    "axes[1, 0].set_ylabel('Precision')\n",
    "axes[1, 0].set_title('Precision vs Threshold (SMOTE Model)')\n",
    "axes[1, 0].legend()\n",
    "axes[1, 0].grid(True, alpha=0.3)\n",
    "\n",
    "# Plot 4: Precision-Recall Trade-off\n",
    "axes[1, 1].plot(results_smote_df['recall'], results_smote_df['precision'], linewidth=2, color='purple')\n",
    "axes[1, 1].scatter([best_recall_smote], [best_precision_smote], color='red', s=100, zorder=5, \n",
    "                   label=f'Best (T={best_threshold_smote:.3f})')\n",
    "axes[1, 1].set_xlabel('Recall')\n",
    "axes[1, 1].set_ylabel('Precision')\n",
    "axes[1, 1].set_title('Precision-Recall Trade-off (SMOTE Model)')\n",
    "axes[1, 1].legend()\n",
    "axes[1, 1].grid(True, alpha=0.3)\n",
    "\n",
    "plt.tight_layout()\n",
    "plt.show()"
   ]
  },
  {
   "cell_type": "code",
   "execution_count": 69,
   "id": "wwtizfp20gd",
   "metadata": {},
   "outputs": [
    {
     "name": "stdout",
     "output_type": "stream",
     "text": [
      "================================================================================\n",
      "XGBoost (SMOTE + Optimized Threshold) - Validation Set\n",
      "================================================================================\n",
      "\n",
      "Optimized Threshold: 0.4300\n",
      "\n",
      "Precision: 1.0000\n",
      "Recall: 0.0345\n",
      "F1 Score: 0.0667\n",
      "F2 Score: 0.0427\n",
      "ROC-AUC: 0.6828\n",
      "PR-AUC: 0.0382\n",
      "\n",
      "Classification Report:\n",
      "              precision    recall  f1-score   support\n",
      "\n",
      "           0       1.00      1.00      1.00     22450\n",
      "           1       1.00      0.03      0.07        29\n",
      "\n",
      "    accuracy                           1.00     22479\n",
      "   macro avg       1.00      0.52      0.53     22479\n",
      "weighted avg       1.00      1.00      1.00     22479\n",
      "\n",
      "\n",
      "Confusion Matrix:\n",
      "[[22450     0]\n",
      " [   28     1]]\n",
      "\n",
      "True Negatives: 22,450\n",
      "False Positives: 0\n",
      "False Negatives: 28\n",
      "True Positives: 1\n",
      "\n",
      "Detection Rate: 3.4% (1/29 positives detected)\n"
     ]
    }
   ],
   "source": [
    "# Evaluate SMOTE model on Validation set\n",
    "y_val_pred_smote_optimized = (y_val_pred_proba_smote >= best_threshold_smote).astype(int)\n",
    "\n",
    "print(\"=\"*80)\n",
    "print(\"XGBoost (SMOTE + Optimized Threshold) - Validation Set\")\n",
    "print(\"=\"*80)\n",
    "print(f\"\\nOptimized Threshold: {best_threshold_smote:.4f}\")\n",
    "print(f\"\\nPrecision: {precision_score(y_val, y_val_pred_smote_optimized):.4f}\")\n",
    "print(f\"Recall: {recall_score(y_val, y_val_pred_smote_optimized):.4f}\")\n",
    "print(f\"F1 Score: {f1_score(y_val, y_val_pred_smote_optimized):.4f}\")\n",
    "print(f\"F2 Score: {fbeta_score(y_val, y_val_pred_smote_optimized, beta=2):.4f}\")\n",
    "print(f\"ROC-AUC: {roc_auc_score(y_val, y_val_pred_proba_smote):.4f}\")\n",
    "print(f\"PR-AUC: {average_precision_score(y_val, y_val_pred_proba_smote):.4f}\")\n",
    "\n",
    "print(\"\\nClassification Report:\")\n",
    "print(classification_report(y_val, y_val_pred_smote_optimized))\n",
    "\n",
    "# Confusion Matrix\n",
    "cm = confusion_matrix(y_val, y_val_pred_smote_optimized)\n",
    "print(\"\\nConfusion Matrix:\")\n",
    "print(cm)\n",
    "print(f\"\\nTrue Negatives: {cm[0,0]:,}\")\n",
    "print(f\"False Positives: {cm[0,1]:,}\")\n",
    "print(f\"False Negatives: {cm[1,0]:,}\")\n",
    "print(f\"True Positives: {cm[1,1]:,}\")\n",
    "\n",
    "# Calculate detection rate\n",
    "detection_rate = cm[1,1] / (cm[1,0] + cm[1,1]) * 100\n",
    "print(f\"\\nDetection Rate: {detection_rate:.1f}% ({cm[1,1]}/{cm[1,0] + cm[1,1]} positives detected)\")"
   ]
  },
  {
   "cell_type": "code",
   "execution_count": 70,
   "id": "fyf0f2kr5f6",
   "metadata": {},
   "outputs": [
    {
     "name": "stdout",
     "output_type": "stream",
     "text": [
      "================================================================================\n",
      "XGBoost (SMOTE + Optimized Threshold) - Test Set\n",
      "================================================================================\n",
      "\n",
      "Optimized Threshold: 0.4300\n",
      "\n",
      "Precision: 0.0000\n",
      "Recall: 0.0000\n",
      "F1 Score: 0.0000\n",
      "F2 Score: 0.0000\n",
      "ROC-AUC: 0.6547\n",
      "PR-AUC: 0.0021\n",
      "\n",
      "Classification Report:\n",
      "              precision    recall  f1-score   support\n",
      "\n",
      "           0       1.00      1.00      1.00     24281\n",
      "           1       0.00      0.00      0.00        22\n",
      "\n",
      "    accuracy                           1.00     24303\n",
      "   macro avg       0.50      0.50      0.50     24303\n",
      "weighted avg       1.00      1.00      1.00     24303\n",
      "\n",
      "\n",
      "Confusion Matrix:\n",
      "[[24278     3]\n",
      " [   22     0]]\n",
      "\n",
      "True Negatives: 24,278\n",
      "False Positives: 3\n",
      "False Negatives: 22\n",
      "True Positives: 0\n",
      "\n",
      "Detection Rate: 0.0% (0/22 positives detected)\n"
     ]
    }
   ],
   "source": [
    "# Evaluate SMOTE model on Test set\n",
    "y_test_pred_smote_optimized = (y_test_pred_proba_smote >= best_threshold_smote).astype(int)\n",
    "\n",
    "print(\"=\"*80)\n",
    "print(\"XGBoost (SMOTE + Optimized Threshold) - Test Set\")\n",
    "print(\"=\"*80)\n",
    "print(f\"\\nOptimized Threshold: {best_threshold_smote:.4f}\")\n",
    "print(f\"\\nPrecision: {precision_score(y_test, y_test_pred_smote_optimized):.4f}\")\n",
    "print(f\"Recall: {recall_score(y_test, y_test_pred_smote_optimized):.4f}\")\n",
    "print(f\"F1 Score: {f1_score(y_test, y_test_pred_smote_optimized):.4f}\")\n",
    "print(f\"F2 Score: {fbeta_score(y_test, y_test_pred_smote_optimized, beta=2):.4f}\")\n",
    "print(f\"ROC-AUC: {roc_auc_score(y_test, y_test_pred_proba_smote):.4f}\")\n",
    "print(f\"PR-AUC: {average_precision_score(y_test, y_test_pred_proba_smote):.4f}\")\n",
    "\n",
    "print(\"\\nClassification Report:\")\n",
    "print(classification_report(y_test, y_test_pred_smote_optimized))\n",
    "\n",
    "# Confusion Matrix\n",
    "cm = confusion_matrix(y_test, y_test_pred_smote_optimized)\n",
    "print(\"\\nConfusion Matrix:\")\n",
    "print(cm)\n",
    "print(f\"\\nTrue Negatives: {cm[0,0]:,}\")\n",
    "print(f\"False Positives: {cm[0,1]:,}\")\n",
    "print(f\"False Negatives: {cm[1,0]:,}\")\n",
    "print(f\"True Positives: {cm[1,1]:,}\")\n",
    "\n",
    "# Calculate detection rate\n",
    "if (cm[1,0] + cm[1,1]) > 0:\n",
    "    detection_rate = cm[1,1] / (cm[1,0] + cm[1,1]) * 100\n",
    "    print(f\"\\nDetection Rate: {detection_rate:.1f}% ({cm[1,1]}/{cm[1,0] + cm[1,1]} positives detected)\")\n",
    "else:\n",
    "    print(f\"\\nNo positive samples in test set\")"
   ]
  },
  {
   "cell_type": "code",
   "execution_count": 71,
   "id": "5r5hnfepx",
   "metadata": {},
   "outputs": [
    {
     "name": "stdout",
     "output_type": "stream",
     "text": [
      "\n",
      "====================================================================================================\n",
      "FINAL MODEL COMPARISON\n",
      "====================================================================================================\n"
     ]
    },
    {
     "data": {
      "text/html": [
       "<div>\n",
       "<style scoped>\n",
       "    .dataframe tbody tr th:only-of-type {\n",
       "        vertical-align: middle;\n",
       "    }\n",
       "\n",
       "    .dataframe tbody tr th {\n",
       "        vertical-align: top;\n",
       "    }\n",
       "\n",
       "    .dataframe thead th {\n",
       "        text-align: right;\n",
       "    }\n",
       "</style>\n",
       "<table border=\"1\" class=\"dataframe\">\n",
       "  <thead>\n",
       "    <tr style=\"text-align: right;\">\n",
       "      <th></th>\n",
       "      <th>Model</th>\n",
       "      <th>Threshold</th>\n",
       "      <th>Method</th>\n",
       "      <th>Val Precision</th>\n",
       "      <th>Val Recall</th>\n",
       "      <th>Val F2</th>\n",
       "      <th>Test Precision</th>\n",
       "      <th>Test Recall</th>\n",
       "      <th>Test F2</th>\n",
       "    </tr>\n",
       "  </thead>\n",
       "  <tbody>\n",
       "    <tr>\n",
       "      <th>0</th>\n",
       "      <td>Baseline (T=0.5)</td>\n",
       "      <td>0.50</td>\n",
       "      <td>scale_pos_weight only</td>\n",
       "      <td>0.6667</td>\n",
       "      <td>0.0690</td>\n",
       "      <td>0.0840</td>\n",
       "      <td>0.0</td>\n",
       "      <td>0.0</td>\n",
       "      <td>0.0</td>\n",
       "    </tr>\n",
       "    <tr>\n",
       "      <th>1</th>\n",
       "      <td>Recall-Optimized</td>\n",
       "      <td>0.49</td>\n",
       "      <td>Aggressive scale + threshold</td>\n",
       "      <td>1.0000</td>\n",
       "      <td>0.0690</td>\n",
       "      <td>0.0847</td>\n",
       "      <td>0.0</td>\n",
       "      <td>0.0</td>\n",
       "      <td>0.0</td>\n",
       "    </tr>\n",
       "    <tr>\n",
       "      <th>2</th>\n",
       "      <td>SMOTE + Optimized</td>\n",
       "      <td>0.43</td>\n",
       "      <td>SMOTE + threshold</td>\n",
       "      <td>1.0000</td>\n",
       "      <td>0.0345</td>\n",
       "      <td>0.0427</td>\n",
       "      <td>0.0</td>\n",
       "      <td>0.0</td>\n",
       "      <td>0.0</td>\n",
       "    </tr>\n",
       "  </tbody>\n",
       "</table>\n",
       "</div>"
      ],
      "text/plain": [
       "               Model  Threshold                        Method  Val Precision  \\\n",
       "0   Baseline (T=0.5)       0.50         scale_pos_weight only         0.6667   \n",
       "1   Recall-Optimized       0.49  Aggressive scale + threshold         1.0000   \n",
       "2  SMOTE + Optimized       0.43             SMOTE + threshold         1.0000   \n",
       "\n",
       "   Val Recall  Val F2  Test Precision  Test Recall  Test F2  \n",
       "0      0.0690  0.0840             0.0          0.0      0.0  \n",
       "1      0.0690  0.0847             0.0          0.0      0.0  \n",
       "2      0.0345  0.0427             0.0          0.0      0.0  "
      ]
     },
     "metadata": {},
     "output_type": "display_data"
    },
    {
     "name": "stdout",
     "output_type": "stream",
     "text": [
      "\n",
      "====================================================================================================\n",
      "IMPROVEMENT SUMMARY (Baseline → SMOTE)\n",
      "====================================================================================================\n",
      "Test Recall:    0.0000 → 0.0000 (+0.0%)\n",
      "Test F2-Score:  0.0000 → 0.0000 (+0.0%)\n"
     ]
    }
   ],
   "source": [
    "# Final comparison: Baseline vs Recall-Optimized vs SMOTE\n",
    "final_comparison = pd.DataFrame({\n",
    "    'Model': ['Baseline (T=0.5)', 'Recall-Optimized', 'SMOTE + Optimized'],\n",
    "    'Threshold': [0.5, best_threshold, best_threshold_smote],\n",
    "    'Method': ['scale_pos_weight only', 'Aggressive scale + threshold', 'SMOTE + threshold'],\n",
    "    'Val Precision': [\n",
    "        precision_score(y_val, y_val_pred_xgb),\n",
    "        precision_score(y_val, y_val_pred_optimized),\n",
    "        precision_score(y_val, y_val_pred_smote_optimized)\n",
    "    ],\n",
    "    'Val Recall': [\n",
    "        recall_score(y_val, y_val_pred_xgb),\n",
    "        recall_score(y_val, y_val_pred_optimized),\n",
    "        recall_score(y_val, y_val_pred_smote_optimized)\n",
    "    ],\n",
    "    'Val F2': [\n",
    "        fbeta_score(y_val, y_val_pred_xgb, beta=2),\n",
    "        fbeta_score(y_val, y_val_pred_optimized, beta=2),\n",
    "        fbeta_score(y_val, y_val_pred_smote_optimized, beta=2)\n",
    "    ],\n",
    "    'Test Precision': [\n",
    "        precision_score(y_test, y_test_pred_xgb),\n",
    "        precision_score(y_test, y_test_pred_optimized),\n",
    "        precision_score(y_test, y_test_pred_smote_optimized)\n",
    "    ],\n",
    "    'Test Recall': [\n",
    "        recall_score(y_test, y_test_pred_xgb),\n",
    "        recall_score(y_test, y_test_pred_optimized),\n",
    "        recall_score(y_test, y_test_pred_smote_optimized)\n",
    "    ],\n",
    "    'Test F2': [\n",
    "        fbeta_score(y_test, y_test_pred_xgb, beta=2),\n",
    "        fbeta_score(y_test, y_test_pred_optimized, beta=2),\n",
    "        fbeta_score(y_test, y_test_pred_smote_optimized, beta=2)\n",
    "    ]\n",
    "})\n",
    "\n",
    "print(\"\\n\" + \"=\"*100)\n",
    "print(\"FINAL MODEL COMPARISON\")\n",
    "print(\"=\"*100)\n",
    "display(final_comparison.round(4))\n",
    "\n",
    "# Calculate improvements from baseline\n",
    "baseline_recall = final_comparison.loc[0, 'Test Recall']\n",
    "smote_recall = final_comparison.loc[2, 'Test Recall']\n",
    "recall_improvement = (smote_recall - baseline_recall) / (baseline_recall + 1e-10) * 100\n",
    "\n",
    "baseline_f2 = final_comparison.loc[0, 'Test F2']\n",
    "smote_f2 = final_comparison.loc[2, 'Test F2']\n",
    "f2_improvement = (smote_f2 - baseline_f2) / (baseline_f2 + 1e-10) * 100\n",
    "\n",
    "print(\"\\n\" + \"=\"*100)\n",
    "print(\"IMPROVEMENT SUMMARY (Baseline → SMOTE)\")\n",
    "print(\"=\"*100)\n",
    "print(f\"Test Recall:    {baseline_recall:.4f} → {smote_recall:.4f} ({recall_improvement:+.1f}%)\")\n",
    "print(f\"Test F2-Score:  {baseline_f2:.4f} → {smote_f2:.4f} ({f2_improvement:+.1f}%)\")"
   ]
  },
  {
   "cell_type": "code",
   "execution_count": 72,
   "id": "97c08dd6",
   "metadata": {},
   "outputs": [
    {
     "data": {
      "image/png": "[encoded data removed]",
      "text/plain": [
       "<Figure size 800x600 with 2 Axes>"
      ]
     },
     "metadata": {},
     "output_type": "display_data"
    }
   ],
   "source": [
    "# Confusion Matrix - Validation\n",
    "cm_val = confusion_matrix(y_val, y_val_pred_xgb)\n",
    "\n",
    "fig, ax = plt.subplots(figsize=(8, 6))\n",
    "sns.heatmap(cm_val, annot=True, fmt='d', cmap='Blues', ax=ax)\n",
    "ax.set_xlabel('Predicted')\n",
    "ax.set_ylabel('Actual')\n",
    "ax.set_title('XGBoost - Confusion Matrix (Validation)')\n",
    "plt.tight_layout()\n",
    "plt.show()"
   ]
  },
  {
   "cell_type": "markdown",
   "id": "e391d193",
   "metadata": {},
   "source": [
    "### 5.2 LightGBM Baseline"
   ]
  },
  {
   "cell_type": "code",
   "execution_count": 73,
   "id": "94a6a2d6",
   "metadata": {},
   "outputs": [
    {
     "name": "stdout",
     "output_type": "stream",
     "text": [
      "LightGBM model initialized\n"
     ]
    }
   ],
   "source": [
    "# LightGBM 모델 초기화 (불균형 데이터 처리)\n",
    "lgb_model = lgb.LGBMClassifier(\n",
    "    objective='binary',\n",
    "    scale_pos_weight=scale_pos_weight,\n",
    "    max_depth=6,\n",
    "    learning_rate=0.1,\n",
    "    n_estimators=100,\n",
    "    random_state=42,\n",
    "    verbose=-1\n",
    ")\n",
    "\n",
    "print(\"LightGBM model initialized\")"
   ]
  },
  {
   "cell_type": "code",
   "execution_count": 74,
   "id": "4b16403e",
   "metadata": {},
   "outputs": [
    {
     "name": "stdout",
     "output_type": "stream",
     "text": [
      "Training LightGBM model...\n",
      "\n",
      "LightGBM training completed\n"
     ]
    }
   ],
   "source": [
    "# LightGBM 학습\n",
    "print(\"Training LightGBM model...\")\n",
    "\n",
    "lgb_model.fit(\n",
    "    X_train, y_train,\n",
    "    eval_set=[(X_train, y_train), (X_val, y_val)],\n",
    "    eval_metric='logloss'\n",
    ")\n",
    "\n",
    "print(\"\\nLightGBM training completed\")"
   ]
  },
  {
   "cell_type": "code",
   "execution_count": 75,
   "id": "4de98c06",
   "metadata": {},
   "outputs": [
    {
     "name": "stdout",
     "output_type": "stream",
     "text": [
      "LightGBM predictions completed\n"
     ]
    }
   ],
   "source": [
    "# LightGBM 예측\n",
    "y_train_pred_lgb = lgb_model.predict(X_train)\n",
    "y_val_pred_lgb = lgb_model.predict(X_val)\n",
    "y_test_pred_lgb = lgb_model.predict(X_test)\n",
    "\n",
    "y_train_pred_proba_lgb = lgb_model.predict_proba(X_train)[:, 1]\n",
    "y_val_pred_proba_lgb = lgb_model.predict_proba(X_val)[:, 1]\n",
    "y_test_pred_proba_lgb = lgb_model.predict_proba(X_test)[:, 1]\n",
    "\n",
    "print(\"LightGBM predictions completed\")"
   ]
  },
  {
   "cell_type": "code",
   "execution_count": 76,
   "id": "5152f8b1",
   "metadata": {},
   "outputs": [
    {
     "name": "stdout",
     "output_type": "stream",
     "text": [
      "================================================================================\n",
      "LightGBM - Validation Set Evaluation\n",
      "================================================================================\n",
      "\n",
      "Precision: 0.0018\n",
      "Recall: 0.2759\n",
      "F1 Score: 0.0035\n",
      "ROC-AUC: 0.5362\n",
      "PR-AUC: 0.0014\n",
      "\n",
      "Classification Report:\n",
      "              precision    recall  f1-score   support\n",
      "\n",
      "           0       1.00      0.80      0.89     22450\n",
      "           1       0.00      0.28      0.00        29\n",
      "\n",
      "    accuracy                           0.80     22479\n",
      "   macro avg       0.50      0.54      0.45     22479\n",
      "weighted avg       1.00      0.80      0.89     22479\n",
      "\n"
     ]
    }
   ],
   "source": [
    "# LightGBM 평가 - Validation\n",
    "print(\"=\"*80)\n",
    "print(\"LightGBM - Validation Set Evaluation\")\n",
    "print(\"=\"*80)\n",
    "print(f\"\\nPrecision: {precision_score(y_val, y_val_pred_lgb):.4f}\")\n",
    "print(f\"Recall: {recall_score(y_val, y_val_pred_lgb):.4f}\")\n",
    "print(f\"F1 Score: {f1_score(y_val, y_val_pred_lgb):.4f}\")\n",
    "print(f\"ROC-AUC: {roc_auc_score(y_val, y_val_pred_proba_lgb):.4f}\")\n",
    "print(f\"PR-AUC: {average_precision_score(y_val, y_val_pred_proba_lgb):.4f}\")\n",
    "\n",
    "print(\"\\nClassification Report:\")\n",
    "print(classification_report(y_val, y_val_pred_lgb))"
   ]
  },
  {
   "cell_type": "code",
   "execution_count": 77,
   "id": "e9617c4a",
   "metadata": {},
   "outputs": [
    {
     "name": "stdout",
     "output_type": "stream",
     "text": [
      "================================================================================\n",
      "LightGBM - Test Set Evaluation\n",
      "================================================================================\n",
      "\n",
      "Precision: 0.0000\n",
      "Recall: 0.0000\n",
      "F1 Score: 0.0000\n",
      "ROC-AUC: 0.4630\n",
      "PR-AUC: 0.0009\n",
      "\n",
      "Classification Report:\n",
      "              precision    recall  f1-score   support\n",
      "\n",
      "           0       1.00      0.93      0.96     24281\n",
      "           1       0.00      0.00      0.00        22\n",
      "\n",
      "    accuracy                           0.93     24303\n",
      "   macro avg       0.50      0.46      0.48     24303\n",
      "weighted avg       1.00      0.93      0.96     24303\n",
      "\n"
     ]
    }
   ],
   "source": [
    "# LightGBM 평가 - Test\n",
    "print(\"=\"*80)\n",
    "print(\"LightGBM - Test Set Evaluation\")\n",
    "print(\"=\"*80)\n",
    "print(f\"\\nPrecision: {precision_score(y_test, y_test_pred_lgb):.4f}\")\n",
    "print(f\"Recall: {recall_score(y_test, y_test_pred_lgb):.4f}\")\n",
    "print(f\"F1 Score: {f1_score(y_test, y_test_pred_lgb):.4f}\")\n",
    "print(f\"ROC-AUC: {roc_auc_score(y_test, y_test_pred_proba_lgb):.4f}\")\n",
    "print(f\"PR-AUC: {average_precision_score(y_test, y_test_pred_proba_lgb):.4f}\")\n",
    "\n",
    "print(\"\\nClassification Report:\")\n",
    "print(classification_report(y_test, y_test_pred_lgb))"
   ]
  },
  {
   "cell_type": "markdown",
   "id": "0b43d796",
   "metadata": {},
   "source": [
    "## 6. Model Comparison"
   ]
  },
  {
   "cell_type": "code",
   "execution_count": 78,
   "id": "cf1b212f",
   "metadata": {},
   "outputs": [
    {
     "name": "stdout",
     "output_type": "stream",
     "text": [
      "\n",
      "Model Comparison:\n"
     ]
    },
    {
     "data": {
      "text/html": [
       "<div>\n",
       "<style scoped>\n",
       "    .dataframe tbody tr th:only-of-type {\n",
       "        vertical-align: middle;\n",
       "    }\n",
       "\n",
       "    .dataframe tbody tr th {\n",
       "        vertical-align: top;\n",
       "    }\n",
       "\n",
       "    .dataframe thead th {\n",
       "        text-align: right;\n",
       "    }\n",
       "</style>\n",
       "<table border=\"1\" class=\"dataframe\">\n",
       "  <thead>\n",
       "    <tr style=\"text-align: right;\">\n",
       "      <th></th>\n",
       "      <th>Model</th>\n",
       "      <th>Precision (Val)</th>\n",
       "      <th>Recall (Val)</th>\n",
       "      <th>F1 (Val)</th>\n",
       "      <th>ROC-AUC (Val)</th>\n",
       "      <th>Precision (Test)</th>\n",
       "      <th>Recall (Test)</th>\n",
       "      <th>F1 (Test)</th>\n",
       "      <th>ROC-AUC (Test)</th>\n",
       "    </tr>\n",
       "  </thead>\n",
       "  <tbody>\n",
       "    <tr>\n",
       "      <th>0</th>\n",
       "      <td>XGBoost</td>\n",
       "      <td>0.6667</td>\n",
       "      <td>0.0690</td>\n",
       "      <td>0.1250</td>\n",
       "      <td>0.7175</td>\n",
       "      <td>0.0</td>\n",
       "      <td>0.0</td>\n",
       "      <td>0.0</td>\n",
       "      <td>0.6222</td>\n",
       "    </tr>\n",
       "    <tr>\n",
       "      <th>1</th>\n",
       "      <td>LightGBM</td>\n",
       "      <td>0.0018</td>\n",
       "      <td>0.2759</td>\n",
       "      <td>0.0035</td>\n",
       "      <td>0.5362</td>\n",
       "      <td>0.0</td>\n",
       "      <td>0.0</td>\n",
       "      <td>0.0</td>\n",
       "      <td>0.4630</td>\n",
       "    </tr>\n",
       "  </tbody>\n",
       "</table>\n",
       "</div>"
      ],
      "text/plain": [
       "      Model  Precision (Val)  Recall (Val)  F1 (Val)  ROC-AUC (Val)  \\\n",
       "0   XGBoost           0.6667        0.0690    0.1250         0.7175   \n",
       "1  LightGBM           0.0018        0.2759    0.0035         0.5362   \n",
       "\n",
       "   Precision (Test)  Recall (Test)  F1 (Test)  ROC-AUC (Test)  \n",
       "0               0.0            0.0        0.0          0.6222  \n",
       "1               0.0            0.0        0.0          0.4630  "
      ]
     },
     "metadata": {},
     "output_type": "display_data"
    }
   ],
   "source": [
    "# 모델 비교 테이블\n",
    "results = {\n",
    "    'Model': ['XGBoost', 'LightGBM'],\n",
    "    'Precision (Val)': [\n",
    "        precision_score(y_val, y_val_pred_xgb),\n",
    "        precision_score(y_val, y_val_pred_lgb)\n",
    "    ],\n",
    "    'Recall (Val)': [\n",
    "        recall_score(y_val, y_val_pred_xgb),\n",
    "        recall_score(y_val, y_val_pred_lgb)\n",
    "    ],\n",
    "    'F1 (Val)': [\n",
    "        f1_score(y_val, y_val_pred_xgb),\n",
    "        f1_score(y_val, y_val_pred_lgb)\n",
    "    ],\n",
    "    'ROC-AUC (Val)': [\n",
    "        roc_auc_score(y_val, y_val_pred_proba_xgb),\n",
    "        roc_auc_score(y_val, y_val_pred_proba_lgb)\n",
    "    ],\n",
    "    'Precision (Test)': [\n",
    "        precision_score(y_test, y_test_pred_xgb),\n",
    "        precision_score(y_test, y_test_pred_lgb)\n",
    "    ],\n",
    "    'Recall (Test)': [\n",
    "        recall_score(y_test, y_test_pred_xgb),\n",
    "        recall_score(y_test, y_test_pred_lgb)\n",
    "    ],\n",
    "    'F1 (Test)': [\n",
    "        f1_score(y_test, y_test_pred_xgb),\n",
    "        f1_score(y_test, y_test_pred_lgb)\n",
    "    ],\n",
    "    'ROC-AUC (Test)': [\n",
    "        roc_auc_score(y_test, y_test_pred_proba_xgb),\n",
    "        roc_auc_score(y_test, y_test_pred_proba_lgb)\n",
    "    ]\n",
    "}\n",
    "\n",
    "results_df = pd.DataFrame(results)\n",
    "print(\"\\nModel Comparison:\")\n",
    "display(results_df.round(4))"
   ]
  },
  {
   "cell_type": "markdown",
   "id": "82052172",
   "metadata": {},
   "source": [
    "## 7. Feature Importance Analysis"
   ]
  },
  {
   "cell_type": "code",
   "execution_count": 79,
   "id": "9da649d3",
   "metadata": {},
   "outputs": [
    {
     "name": "stdout",
     "output_type": "stream",
     "text": [
      "\n",
      "XGBoost - Top 20 Important Features:\n"
     ]
    },
    {
     "data": {
      "text/html": [
       "<div>\n",
       "<style scoped>\n",
       "    .dataframe tbody tr th:only-of-type {\n",
       "        vertical-align: middle;\n",
       "    }\n",
       "\n",
       "    .dataframe tbody tr th {\n",
       "        vertical-align: top;\n",
       "    }\n",
       "\n",
       "    .dataframe thead th {\n",
       "        text-align: right;\n",
       "    }\n",
       "</style>\n",
       "<table border=\"1\" class=\"dataframe\">\n",
       "  <thead>\n",
       "    <tr style=\"text-align: right;\">\n",
       "      <th></th>\n",
       "      <th>feature</th>\n",
       "      <th>importance</th>\n",
       "    </tr>\n",
       "  </thead>\n",
       "  <tbody>\n",
       "    <tr>\n",
       "      <th>113</th>\n",
       "      <td>RC_M1_UE_CUS_CN_recovery_after_decline</td>\n",
       "      <td>0.112059</td>\n",
       "    </tr>\n",
       "    <tr>\n",
       "      <th>96</th>\n",
       "      <td>RC_M1_AV_NP_AT_months_since_best</td>\n",
       "      <td>0.075624</td>\n",
       "    </tr>\n",
       "    <tr>\n",
       "      <th>0</th>\n",
       "      <td>MCT_OPE_MS_CN</td>\n",
       "      <td>0.060534</td>\n",
       "    </tr>\n",
       "    <tr>\n",
       "      <th>86</th>\n",
       "      <td>RC_M1_TO_UE_CT_months_since_best</td>\n",
       "      <td>0.046376</td>\n",
       "    </tr>\n",
       "    <tr>\n",
       "      <th>72</th>\n",
       "      <td>RC_M1_AV_NP_AT_total_decline_3m</td>\n",
       "      <td>0.036850</td>\n",
       "    </tr>\n",
       "    <tr>\n",
       "      <th>77</th>\n",
       "      <td>RC_M1_SAA_worst_ever</td>\n",
       "      <td>0.036775</td>\n",
       "    </tr>\n",
       "    <tr>\n",
       "      <th>49</th>\n",
       "      <td>RC_M1_TO_UE_CT_decline_count_12m</td>\n",
       "      <td>0.035007</td>\n",
       "    </tr>\n",
       "    <tr>\n",
       "      <th>25</th>\n",
       "      <td>RC_M1_SHC_RSD_UE_CLN_RAT</td>\n",
       "      <td>0.034056</td>\n",
       "    </tr>\n",
       "    <tr>\n",
       "      <th>1</th>\n",
       "      <td>RC_M1_SAA</td>\n",
       "      <td>0.032083</td>\n",
       "    </tr>\n",
       "    <tr>\n",
       "      <th>82</th>\n",
       "      <td>RC_M1_TO_UE_CT_worst_ever</td>\n",
       "      <td>0.029842</td>\n",
       "    </tr>\n",
       "    <tr>\n",
       "      <th>24</th>\n",
       "      <td>MCT_UE_CLN_NEW_RAT</td>\n",
       "      <td>0.028027</td>\n",
       "    </tr>\n",
       "    <tr>\n",
       "      <th>62</th>\n",
       "      <td>RC_M1_UE_CUS_CN_total_decline_6m</td>\n",
       "      <td>0.027450</td>\n",
       "    </tr>\n",
       "    <tr>\n",
       "      <th>20</th>\n",
       "      <td>M12_FME_40_RAT</td>\n",
       "      <td>0.026952</td>\n",
       "    </tr>\n",
       "    <tr>\n",
       "      <th>38</th>\n",
       "      <td>RC_M1_SAA_decline_count_12m</td>\n",
       "      <td>0.023311</td>\n",
       "    </tr>\n",
       "    <tr>\n",
       "      <th>4</th>\n",
       "      <td>RC_M1_AV_NP_AT</td>\n",
       "      <td>0.022777</td>\n",
       "    </tr>\n",
       "    <tr>\n",
       "      <th>6</th>\n",
       "      <td>DLV_SAA_RAT</td>\n",
       "      <td>0.019921</td>\n",
       "    </tr>\n",
       "    <tr>\n",
       "      <th>81</th>\n",
       "      <td>RC_M1_SAA_months_since_best</td>\n",
       "      <td>0.019850</td>\n",
       "    </tr>\n",
       "    <tr>\n",
       "      <th>26</th>\n",
       "      <td>RC_M1_SHC_WP_UE_CLN_RAT</td>\n",
       "      <td>0.016365</td>\n",
       "    </tr>\n",
       "    <tr>\n",
       "      <th>92</th>\n",
       "      <td>RC_M1_AV_NP_AT_worst_ever</td>\n",
       "      <td>0.015384</td>\n",
       "    </tr>\n",
       "    <tr>\n",
       "      <th>12</th>\n",
       "      <td>M12_SME_BZN_ME_MCT_RAT</td>\n",
       "      <td>0.015194</td>\n",
       "    </tr>\n",
       "  </tbody>\n",
       "</table>\n",
       "</div>"
      ],
      "text/plain": [
       "                                    feature  importance\n",
       "113  RC_M1_UE_CUS_CN_recovery_after_decline    0.112059\n",
       "96         RC_M1_AV_NP_AT_months_since_best    0.075624\n",
       "0                             MCT_OPE_MS_CN    0.060534\n",
       "86         RC_M1_TO_UE_CT_months_since_best    0.046376\n",
       "72          RC_M1_AV_NP_AT_total_decline_3m    0.036850\n",
       "77                     RC_M1_SAA_worst_ever    0.036775\n",
       "49         RC_M1_TO_UE_CT_decline_count_12m    0.035007\n",
       "25                 RC_M1_SHC_RSD_UE_CLN_RAT    0.034056\n",
       "1                                 RC_M1_SAA    0.032083\n",
       "82                RC_M1_TO_UE_CT_worst_ever    0.029842\n",
       "24                       MCT_UE_CLN_NEW_RAT    0.028027\n",
       "62         RC_M1_UE_CUS_CN_total_decline_6m    0.027450\n",
       "20                           M12_FME_40_RAT    0.026952\n",
       "38              RC_M1_SAA_decline_count_12m    0.023311\n",
       "4                            RC_M1_AV_NP_AT    0.022777\n",
       "6                               DLV_SAA_RAT    0.019921\n",
       "81              RC_M1_SAA_months_since_best    0.019850\n",
       "26                  RC_M1_SHC_WP_UE_CLN_RAT    0.016365\n",
       "92                RC_M1_AV_NP_AT_worst_ever    0.015384\n",
       "12                   M12_SME_BZN_ME_MCT_RAT    0.015194"
      ]
     },
     "metadata": {},
     "output_type": "display_data"
    },
    {
     "data": {
      "image/png": "[encoded data removed]",
      "text/plain": [
       "<Figure size 1200x800 with 1 Axes>"
      ]
     },
     "metadata": {},
     "output_type": "display_data"
    }
   ],
   "source": [
    "# XGBoost Feature Importance\n",
    "xgb_importance = pd.DataFrame({\n",
    "    'feature': feature_cols,\n",
    "    'importance': xgb_model.feature_importances_\n",
    "}).sort_values('importance', ascending=False)\n",
    "\n",
    "print(\"\\nXGBoost - Top 20 Important Features:\")\n",
    "display(xgb_importance.head(20))\n",
    "\n",
    "# 시각화\n",
    "fig, ax = plt.subplots(figsize=(12, 8))\n",
    "top_features = xgb_importance.head(20)\n",
    "ax.barh(range(len(top_features)), top_features['importance'].values)\n",
    "ax.set_yticks(range(len(top_features)))\n",
    "ax.set_yticklabels(top_features['feature'].values)\n",
    "ax.set_xlabel('Importance')\n",
    "ax.set_title('XGBoost - Top 20 Feature Importance')\n",
    "ax.invert_yaxis()\n",
    "plt.tight_layout()\n",
    "plt.show()"
   ]
  },
  {
   "cell_type": "code",
   "execution_count": 80,
   "id": "4f731561",
   "metadata": {},
   "outputs": [
    {
     "name": "stdout",
     "output_type": "stream",
     "text": [
      "\n",
      "LightGBM - Top 20 Important Features:\n"
     ]
    },
    {
     "data": {
      "text/html": [
       "<div>\n",
       "<style scoped>\n",
       "    .dataframe tbody tr th:only-of-type {\n",
       "        vertical-align: middle;\n",
       "    }\n",
       "\n",
       "    .dataframe tbody tr th {\n",
       "        vertical-align: top;\n",
       "    }\n",
       "\n",
       "    .dataframe thead th {\n",
       "        text-align: right;\n",
       "    }\n",
       "</style>\n",
       "<table border=\"1\" class=\"dataframe\">\n",
       "  <thead>\n",
       "    <tr style=\"text-align: right;\">\n",
       "      <th></th>\n",
       "      <th>feature</th>\n",
       "      <th>importance</th>\n",
       "    </tr>\n",
       "  </thead>\n",
       "  <tbody>\n",
       "    <tr>\n",
       "      <th>13</th>\n",
       "      <td>M12_MAL_1020_RAT</td>\n",
       "      <td>114</td>\n",
       "    </tr>\n",
       "    <tr>\n",
       "      <th>18</th>\n",
       "      <td>M12_FME_1020_RAT</td>\n",
       "      <td>112</td>\n",
       "    </tr>\n",
       "    <tr>\n",
       "      <th>6</th>\n",
       "      <td>DLV_SAA_RAT</td>\n",
       "      <td>103</td>\n",
       "    </tr>\n",
       "    <tr>\n",
       "      <th>24</th>\n",
       "      <td>MCT_UE_CLN_NEW_RAT</td>\n",
       "      <td>75</td>\n",
       "    </tr>\n",
       "    <tr>\n",
       "      <th>8</th>\n",
       "      <td>M1_SME_RY_CNT_RAT</td>\n",
       "      <td>66</td>\n",
       "    </tr>\n",
       "    <tr>\n",
       "      <th>15</th>\n",
       "      <td>M12_MAL_40_RAT</td>\n",
       "      <td>66</td>\n",
       "    </tr>\n",
       "    <tr>\n",
       "      <th>14</th>\n",
       "      <td>M12_MAL_30_RAT</td>\n",
       "      <td>63</td>\n",
       "    </tr>\n",
       "    <tr>\n",
       "      <th>23</th>\n",
       "      <td>MCT_UE_CLN_REU_RAT</td>\n",
       "      <td>58</td>\n",
       "    </tr>\n",
       "    <tr>\n",
       "      <th>7</th>\n",
       "      <td>M1_SME_RY_SAA_RAT</td>\n",
       "      <td>55</td>\n",
       "    </tr>\n",
       "    <tr>\n",
       "      <th>17</th>\n",
       "      <td>M12_MAL_60_RAT</td>\n",
       "      <td>54</td>\n",
       "    </tr>\n",
       "    <tr>\n",
       "      <th>26</th>\n",
       "      <td>RC_M1_SHC_WP_UE_CLN_RAT</td>\n",
       "      <td>51</td>\n",
       "    </tr>\n",
       "    <tr>\n",
       "      <th>10</th>\n",
       "      <td>M12_SME_BZN_SAA_PCE_RT</td>\n",
       "      <td>42</td>\n",
       "    </tr>\n",
       "    <tr>\n",
       "      <th>11</th>\n",
       "      <td>M12_SME_RY_ME_MCT_RAT</td>\n",
       "      <td>35</td>\n",
       "    </tr>\n",
       "    <tr>\n",
       "      <th>19</th>\n",
       "      <td>M12_FME_30_RAT</td>\n",
       "      <td>31</td>\n",
       "    </tr>\n",
       "    <tr>\n",
       "      <th>108</th>\n",
       "      <td>RC_M1_TO_UE_CT_interval_volatility_6m</td>\n",
       "      <td>31</td>\n",
       "    </tr>\n",
       "    <tr>\n",
       "      <th>40</th>\n",
       "      <td>RC_M1_SAA_total_decline_6m</td>\n",
       "      <td>29</td>\n",
       "    </tr>\n",
       "    <tr>\n",
       "      <th>9</th>\n",
       "      <td>M12_SME_RY_SAA_PCE_RT</td>\n",
       "      <td>28</td>\n",
       "    </tr>\n",
       "    <tr>\n",
       "      <th>20</th>\n",
       "      <td>M12_FME_40_RAT</td>\n",
       "      <td>28</td>\n",
       "    </tr>\n",
       "    <tr>\n",
       "      <th>21</th>\n",
       "      <td>M12_FME_50_RAT</td>\n",
       "      <td>27</td>\n",
       "    </tr>\n",
       "    <tr>\n",
       "      <th>122</th>\n",
       "      <td>RC_M1_AV_NP_AT_interval_volatility_6m</td>\n",
       "      <td>27</td>\n",
       "    </tr>\n",
       "  </tbody>\n",
       "</table>\n",
       "</div>"
      ],
      "text/plain": [
       "                                   feature  importance\n",
       "13                        M12_MAL_1020_RAT         114\n",
       "18                        M12_FME_1020_RAT         112\n",
       "6                              DLV_SAA_RAT         103\n",
       "24                      MCT_UE_CLN_NEW_RAT          75\n",
       "8                        M1_SME_RY_CNT_RAT          66\n",
       "15                          M12_MAL_40_RAT          66\n",
       "14                          M12_MAL_30_RAT          63\n",
       "23                      MCT_UE_CLN_REU_RAT          58\n",
       "7                        M1_SME_RY_SAA_RAT          55\n",
       "17                          M12_MAL_60_RAT          54\n",
       "26                 RC_M1_SHC_WP_UE_CLN_RAT          51\n",
       "10                  M12_SME_BZN_SAA_PCE_RT          42\n",
       "11                   M12_SME_RY_ME_MCT_RAT          35\n",
       "19                          M12_FME_30_RAT          31\n",
       "108  RC_M1_TO_UE_CT_interval_volatility_6m          31\n",
       "40              RC_M1_SAA_total_decline_6m          29\n",
       "9                    M12_SME_RY_SAA_PCE_RT          28\n",
       "20                          M12_FME_40_RAT          28\n",
       "21                          M12_FME_50_RAT          27\n",
       "122  RC_M1_AV_NP_AT_interval_volatility_6m          27"
      ]
     },
     "metadata": {},
     "output_type": "display_data"
    },
    {
     "data": {
      "image/png": "[encoded data removed]",
      "text/plain": [
       "<Figure size 1200x800 with 1 Axes>"
      ]
     },
     "metadata": {},
     "output_type": "display_data"
    }
   ],
   "source": [
    "# LightGBM Feature Importance\n",
    "lgb_importance = pd.DataFrame({\n",
    "    'feature': feature_cols,\n",
    "    'importance': lgb_model.feature_importances_\n",
    "}).sort_values('importance', ascending=False)\n",
    "\n",
    "print(\"\\nLightGBM - Top 20 Important Features:\")\n",
    "display(lgb_importance.head(20))\n",
    "\n",
    "# 시각화\n",
    "fig, ax = plt.subplots(figsize=(12, 8))\n",
    "top_features = lgb_importance.head(20)\n",
    "ax.barh(range(len(top_features)), top_features['importance'].values)\n",
    "ax.set_yticks(range(len(top_features)))\n",
    "ax.set_yticklabels(top_features['feature'].values)\n",
    "ax.set_xlabel('Importance')\n",
    "ax.set_title('LightGBM - Top 20 Feature Importance')\n",
    "ax.invert_yaxis()\n",
    "plt.tight_layout()\n",
    "plt.show()"
   ]
  },
  {
   "cell_type": "markdown",
   "id": "a2d1ec23",
   "metadata": {},
   "source": [
    "## 8. SHAP Value Analysis\n",
    "\n",
    "SHAP (SHapley Additive exPlanations)를 사용하여 모델의 예측을 해석합니다."
   ]
  },
  {
   "cell_type": "code",
   "execution_count": 81,
   "id": "f0108aee",
   "metadata": {},
   "outputs": [
    {
     "name": "stdout",
     "output_type": "stream",
     "text": [
      "Creating SHAP explainer for XGBoost...\n"
     ]
    },
    {
     "ename": "ValueError",
     "evalue": "could not convert string to float: '[5E-1]'",
     "output_type": "error",
     "traceback": [
      "\u001b[0;31m---------------------------------------------------------------------------\u001b[0m",
      "\u001b[0;31mValueError\u001b[0m                                Traceback (most recent call last)",
      "Cell \u001b[0;32mIn[81], line 3\u001b[0m\n\u001b[1;32m      1\u001b[0m \u001b[38;5;66;03m# SHAP explainer 생성 (XGBoost)\u001b[39;00m\n\u001b[1;32m      2\u001b[0m \u001b[38;5;28mprint\u001b[39m(\u001b[38;5;124m\"\u001b[39m\u001b[38;5;124mCreating SHAP explainer for XGBoost...\u001b[39m\u001b[38;5;124m\"\u001b[39m)\n\u001b[0;32m----> 3\u001b[0m explainer_xgb \u001b[38;5;241m=\u001b[39m shap\u001b[38;5;241m.\u001b[39mTreeExplainer(xgb_model)\n\u001b[1;32m      5\u001b[0m \u001b[38;5;66;03m# SHAP values 계산 (샘플링하여 계산 속도 향상)\u001b[39;00m\n\u001b[1;32m      6\u001b[0m sample_size \u001b[38;5;241m=\u001b[39m \u001b[38;5;28mmin\u001b[39m(\u001b[38;5;241m1000\u001b[39m, \u001b[38;5;28mlen\u001b[39m(X_val))\n",
      "File \u001b[0;32m/opt/anaconda3/lib/python3.13/site-packages/shap/explainers/_tree.py:278\u001b[0m, in \u001b[0;36mTreeExplainer.__init__\u001b[0;34m(self, model, data, model_output, feature_perturbation, feature_names, approximate, link, linearize_link)\u001b[0m\n\u001b[1;32m    276\u001b[0m \u001b[38;5;28mself\u001b[39m\u001b[38;5;241m.\u001b[39mfeature_perturbation \u001b[38;5;241m=\u001b[39m feature_perturbation\n\u001b[1;32m    277\u001b[0m \u001b[38;5;28mself\u001b[39m\u001b[38;5;241m.\u001b[39mexpected_value \u001b[38;5;241m=\u001b[39m \u001b[38;5;28;01mNone\u001b[39;00m\n\u001b[0;32m--> 278\u001b[0m \u001b[38;5;28mself\u001b[39m\u001b[38;5;241m.\u001b[39mmodel \u001b[38;5;241m=\u001b[39m TreeEnsemble(model, \u001b[38;5;28mself\u001b[39m\u001b[38;5;241m.\u001b[39mdata, \u001b[38;5;28mself\u001b[39m\u001b[38;5;241m.\u001b[39mdata_missing, model_output)\n\u001b[1;32m    279\u001b[0m \u001b[38;5;28mself\u001b[39m\u001b[38;5;241m.\u001b[39mmodel_output \u001b[38;5;241m=\u001b[39m model_output\n\u001b[1;32m    280\u001b[0m \u001b[38;5;66;03m# self.model_output = self.model.model_output # this allows the TreeEnsemble to translate model outputs types by how it loads the model\u001b[39;00m\n\u001b[1;32m    281\u001b[0m \n\u001b[1;32m    282\u001b[0m \u001b[38;5;66;03m# check for unsupported combinations of feature_perturbation and model_outputs\u001b[39;00m\n",
      "File \u001b[0;32m/opt/anaconda3/lib/python3.13/site-packages/shap/explainers/_tree.py:1261\u001b[0m, in \u001b[0;36mTreeEnsemble.__init__\u001b[0;34m(self, model, data, data_missing, model_output)\u001b[0m\n\u001b[1;32m   1259\u001b[0m \u001b[38;5;28mself\u001b[39m\u001b[38;5;241m.\u001b[39minput_dtype \u001b[38;5;241m=\u001b[39m np\u001b[38;5;241m.\u001b[39mfloat32\n\u001b[1;32m   1260\u001b[0m \u001b[38;5;28mself\u001b[39m\u001b[38;5;241m.\u001b[39moriginal_model \u001b[38;5;241m=\u001b[39m model\u001b[38;5;241m.\u001b[39mget_booster()\n\u001b[0;32m-> 1261\u001b[0m \u001b[38;5;28mself\u001b[39m\u001b[38;5;241m.\u001b[39m_set_xgboost_model_attributes(\n\u001b[1;32m   1262\u001b[0m     data,\n\u001b[1;32m   1263\u001b[0m     data_missing,\n\u001b[1;32m   1264\u001b[0m     objective_name_map,\n\u001b[1;32m   1265\u001b[0m     tree_output_name_map,\n\u001b[1;32m   1266\u001b[0m )\n\u001b[1;32m   1268\u001b[0m \u001b[38;5;28;01mif\u001b[39;00m \u001b[38;5;28mself\u001b[39m\u001b[38;5;241m.\u001b[39mmodel_output \u001b[38;5;241m==\u001b[39m \u001b[38;5;124m\"\u001b[39m\u001b[38;5;124mpredict_proba\u001b[39m\u001b[38;5;124m\"\u001b[39m:\n\u001b[1;32m   1269\u001b[0m     \u001b[38;5;28;01mif\u001b[39;00m \u001b[38;5;28mself\u001b[39m\u001b[38;5;241m.\u001b[39mnum_stacked_models \u001b[38;5;241m==\u001b[39m \u001b[38;5;241m1\u001b[39m:\n\u001b[1;32m   1270\u001b[0m         \u001b[38;5;66;03m# with predict_proba we need to double the outputs to match\u001b[39;00m\n",
      "File \u001b[0;32m/opt/anaconda3/lib/python3.13/site-packages/shap/explainers/_tree.py:1506\u001b[0m, in \u001b[0;36mTreeEnsemble._set_xgboost_model_attributes\u001b[0;34m(self, data, data_missing, objective_name_map, tree_output_name_map)\u001b[0m\n\u001b[1;32m   1498\u001b[0m \u001b[38;5;28;01mdef\u001b[39;00m\u001b[38;5;250m \u001b[39m\u001b[38;5;21m_set_xgboost_model_attributes\u001b[39m(\n\u001b[1;32m   1499\u001b[0m     \u001b[38;5;28mself\u001b[39m,\n\u001b[1;32m   1500\u001b[0m     data,\n\u001b[0;32m   (...)\u001b[0m\n\u001b[1;32m   1503\u001b[0m     tree_output_name_map,\n\u001b[1;32m   1504\u001b[0m ):\n\u001b[1;32m   1505\u001b[0m     \u001b[38;5;28mself\u001b[39m\u001b[38;5;241m.\u001b[39mmodel_type \u001b[38;5;241m=\u001b[39m \u001b[38;5;124m\"\u001b[39m\u001b[38;5;124mxgboost\u001b[39m\u001b[38;5;124m\"\u001b[39m\n\u001b[0;32m-> 1506\u001b[0m     loader \u001b[38;5;241m=\u001b[39m XGBTreeModelLoader(\u001b[38;5;28mself\u001b[39m\u001b[38;5;241m.\u001b[39moriginal_model)\n\u001b[1;32m   1508\u001b[0m     \u001b[38;5;28mself\u001b[39m\u001b[38;5;241m.\u001b[39mtrees \u001b[38;5;241m=\u001b[39m loader\u001b[38;5;241m.\u001b[39mget_trees(data\u001b[38;5;241m=\u001b[39mdata, data_missing\u001b[38;5;241m=\u001b[39mdata_missing)\n\u001b[1;32m   1509\u001b[0m     \u001b[38;5;28mself\u001b[39m\u001b[38;5;241m.\u001b[39mbase_offset \u001b[38;5;241m=\u001b[39m loader\u001b[38;5;241m.\u001b[39mbase_score\n",
      "File \u001b[0;32m/opt/anaconda3/lib/python3.13/site-packages/shap/explainers/_tree.py:2104\u001b[0m, in \u001b[0;36mXGBTreeModelLoader.__init__\u001b[0;34m(self, xgb_model)\u001b[0m\n\u001b[1;32m   2102\u001b[0m \u001b[38;5;28mself\u001b[39m\u001b[38;5;241m.\u001b[39mn_trees_per_iter \u001b[38;5;241m=\u001b[39m \u001b[38;5;28mint\u001b[39m(diff[\u001b[38;5;241m0\u001b[39m])\n\u001b[1;32m   2103\u001b[0m \u001b[38;5;28mself\u001b[39m\u001b[38;5;241m.\u001b[39mn_targets \u001b[38;5;241m=\u001b[39m n_targets\n\u001b[0;32m-> 2104\u001b[0m \u001b[38;5;28mself\u001b[39m\u001b[38;5;241m.\u001b[39mbase_score \u001b[38;5;241m=\u001b[39m \u001b[38;5;28mfloat\u001b[39m(learner_model_param[\u001b[38;5;124m\"\u001b[39m\u001b[38;5;124mbase_score\u001b[39m\u001b[38;5;124m\"\u001b[39m])\n\u001b[1;32m   2105\u001b[0m \u001b[38;5;28;01massert\u001b[39;00m \u001b[38;5;28mself\u001b[39m\u001b[38;5;241m.\u001b[39mn_trees_per_iter \u001b[38;5;241m>\u001b[39m \u001b[38;5;241m0\u001b[39m\n\u001b[1;32m   2107\u001b[0m \u001b[38;5;28mself\u001b[39m\u001b[38;5;241m.\u001b[39mname_obj \u001b[38;5;241m=\u001b[39m objective[\u001b[38;5;124m\"\u001b[39m\u001b[38;5;124mname\u001b[39m\u001b[38;5;124m\"\u001b[39m]\n",
      "\u001b[0;31mValueError\u001b[0m: could not convert string to float: '[5E-1]'"
     ]
    }
   ],
   "source": [
    "# SHAP explainer 생성 (XGBoost)\n",
    "print(\"Creating SHAP explainer for XGBoost...\")\n",
    "explainer_xgb = shap.TreeExplainer(xgb_model)\n",
    "\n",
    "# SHAP values 계산 (샘플링하여 계산 속도 향상)\n",
    "sample_size = min(1000, len(X_val))\n",
    "X_val_sample = X_val.sample(n=sample_size, random_state=42)\n",
    "\n",
    "print(f\"Calculating SHAP values for {sample_size} samples...\")\n",
    "shap_values_xgb = explainer_xgb.shap_values(X_val_sample)\n",
    "\n",
    "print(\"SHAP calculation completed\")"
   ]
  },
  {
   "cell_type": "code",
   "execution_count": 82,
   "id": "b48ea3a1",
   "metadata": {},
   "outputs": [
    {
     "name": "stdout",
     "output_type": "stream",
     "text": [
      "\n",
      "SHAP Summary Plot - XGBoost:\n"
     ]
    },
    {
     "ename": "NameError",
     "evalue": "name 'shap_values_xgb' is not defined",
     "output_type": "error",
     "traceback": [
      "\u001b[0;31m---------------------------------------------------------------------------\u001b[0m",
      "\u001b[0;31mNameError\u001b[0m                                 Traceback (most recent call last)",
      "Cell \u001b[0;32mIn[82], line 3\u001b[0m\n\u001b[1;32m      1\u001b[0m \u001b[38;5;66;03m# SHAP Summary Plot (XGBoost)\u001b[39;00m\n\u001b[1;32m      2\u001b[0m \u001b[38;5;28mprint\u001b[39m(\u001b[38;5;124m\"\u001b[39m\u001b[38;5;130;01m\\n\u001b[39;00m\u001b[38;5;124mSHAP Summary Plot - XGBoost:\u001b[39m\u001b[38;5;124m\"\u001b[39m)\n\u001b[0;32m----> 3\u001b[0m shap\u001b[38;5;241m.\u001b[39msummary_plot(shap_values_xgb, X_val_sample, show\u001b[38;5;241m=\u001b[39m\u001b[38;5;28;01mFalse\u001b[39;00m)\n\u001b[1;32m      4\u001b[0m plt\u001b[38;5;241m.\u001b[39mtight_layout()\n\u001b[1;32m      5\u001b[0m plt\u001b[38;5;241m.\u001b[39mshow()\n",
      "\u001b[0;31mNameError\u001b[0m: name 'shap_values_xgb' is not defined"
     ]
    }
   ],
   "source": [
    "# SHAP Summary Plot (XGBoost)\n",
    "print(\"\\nSHAP Summary Plot - XGBoost:\")\n",
    "shap.summary_plot(shap_values_xgb, X_val_sample, show=False)\n",
    "plt.tight_layout()\n",
    "plt.show()"
   ]
  },
  {
   "cell_type": "code",
   "execution_count": 83,
   "id": "55f0d526",
   "metadata": {},
   "outputs": [
    {
     "name": "stdout",
     "output_type": "stream",
     "text": [
      "\n",
      "SHAP Feature Importance (Mean |SHAP value|) - XGBoost:\n"
     ]
    },
    {
     "ename": "NameError",
     "evalue": "name 'shap_values_xgb' is not defined",
     "output_type": "error",
     "traceback": [
      "\u001b[0;31m---------------------------------------------------------------------------\u001b[0m",
      "\u001b[0;31mNameError\u001b[0m                                 Traceback (most recent call last)",
      "Cell \u001b[0;32mIn[83], line 3\u001b[0m\n\u001b[1;32m      1\u001b[0m \u001b[38;5;66;03m# SHAP Bar Plot - Mean absolute SHAP values\u001b[39;00m\n\u001b[1;32m      2\u001b[0m \u001b[38;5;28mprint\u001b[39m(\u001b[38;5;124m\"\u001b[39m\u001b[38;5;130;01m\\n\u001b[39;00m\u001b[38;5;124mSHAP Feature Importance (Mean |SHAP value|) - XGBoost:\u001b[39m\u001b[38;5;124m\"\u001b[39m)\n\u001b[0;32m----> 3\u001b[0m shap\u001b[38;5;241m.\u001b[39msummary_plot(shap_values_xgb, X_val_sample, plot_type\u001b[38;5;241m=\u001b[39m\u001b[38;5;124m\"\u001b[39m\u001b[38;5;124mbar\u001b[39m\u001b[38;5;124m\"\u001b[39m, show\u001b[38;5;241m=\u001b[39m\u001b[38;5;28;01mFalse\u001b[39;00m)\n\u001b[1;32m      4\u001b[0m plt\u001b[38;5;241m.\u001b[39mtight_layout()\n\u001b[1;32m      5\u001b[0m plt\u001b[38;5;241m.\u001b[39mshow()\n",
      "\u001b[0;31mNameError\u001b[0m: name 'shap_values_xgb' is not defined"
     ]
    }
   ],
   "source": [
    "# SHAP Bar Plot - Mean absolute SHAP values\n",
    "print(\"\\nSHAP Feature Importance (Mean |SHAP value|) - XGBoost:\")\n",
    "shap.summary_plot(shap_values_xgb, X_val_sample, plot_type=\"bar\", show=False)\n",
    "plt.tight_layout()\n",
    "plt.show()"
   ]
  },
  {
   "cell_type": "markdown",
   "id": "a53f6678",
   "metadata": {},
   "source": [
    "## 9. Hyperparameter Tuning\n",
    "\n",
    "성능이 더 좋은 모델에 대해 Hyperparameter tuning을 수행합니다."
   ]
  },
  {
   "cell_type": "code",
   "execution_count": null,
   "id": "fdf387a3",
   "metadata": {},
   "outputs": [
    {
     "name": "stdout",
     "output_type": "stream",
     "text": [
      "Parameter grid for XGBoost:\n",
      "{'max_depth': [4, 6, 8], 'learning_rate': [0.05, 0.1, 0.2], 'n_estimators': [100, 200], 'min_child_weight': [1, 3, 5], 'subsample': [0.8, 1.0], 'colsample_bytree': [0.8, 1.0]}\n",
      "\n",
      "Total combinations: 216\n"
     ]
    }
   ],
   "source": [
    "# Grid Search를 위한 파라미터 그리드 정의 (XGBoost)\n",
    "from sklearn.model_selection import GridSearchCV\n",
    "\n",
    "param_grid_xgb = {\n",
    "    'max_depth': [4, 6, 8],\n",
    "    'learning_rate': [0.05, 0.1, 0.2],\n",
    "    'n_estimators': [100, 200],\n",
    "    'min_child_weight': [1, 3, 5],\n",
    "    'subsample': [0.8, 1.0],\n",
    "    'colsample_bytree': [0.8, 1.0]\n",
    "}\n",
    "\n",
    "print(\"Parameter grid for XGBoost:\")\n",
    "print(param_grid_xgb)\n",
    "print(f\"\\nTotal combinations: {np.prod([len(v) for v in param_grid_xgb.values()])}\")"
   ]
  },
  {
   "cell_type": "code",
   "execution_count": null,
   "id": "eeca48f4",
   "metadata": {},
   "outputs": [
    {
     "name": "stdout",
     "output_type": "stream",
     "text": [
      "Starting RandomizedSearchCV for XGBoost...\n",
      "This may take several minutes...\n",
      "\n",
      "Fitting 3 folds for each of 20 candidates, totalling 60 fits\n",
      "\n",
      "Best parameters:\n",
      "{'subsample': 1.0, 'n_estimators': 100, 'min_child_weight': 5, 'max_depth': 4, 'learning_rate': 0.05, 'colsample_bytree': 0.8}\n",
      "\n",
      "Best ROC-AUC score: 0.7208\n"
     ]
    }
   ],
   "source": [
    "# Note: Full grid search would take too long, so we'll use RandomizedSearchCV instead\n",
    "from sklearn.model_selection import RandomizedSearchCV\n",
    "\n",
    "print(\"Starting RandomizedSearchCV for XGBoost...\")\n",
    "print(\"This may take several minutes...\\n\")\n",
    "\n",
    "xgb_random = RandomizedSearchCV(\n",
    "    estimator=xgb.XGBClassifier(\n",
    "        objective='binary:logistic',\n",
    "        scale_pos_weight=scale_pos_weight,\n",
    "        random_state=42,\n",
    "        eval_metric='logloss'\n",
    "    ),\n",
    "    param_distributions=param_grid_xgb,\n",
    "    n_iter=20,  # 20 random combinations\n",
    "    scoring='roc_auc',\n",
    "    cv=3,\n",
    "    verbose=1,\n",
    "    random_state=42,\n",
    "    n_jobs=-1\n",
    ")\n",
    "\n",
    "# Combine train + val for hyperparameter tuning\n",
    "X_train_val = pd.concat([X_train, X_val])\n",
    "y_train_val = pd.concat([y_train, y_val])\n",
    "\n",
    "xgb_random.fit(X_train_val, y_train_val)\n",
    "\n",
    "print(\"\\nBest parameters:\")\n",
    "print(xgb_random.best_params_)\n",
    "print(f\"\\nBest ROC-AUC score: {xgb_random.best_score_:.4f}\")"
   ]
  },
  {
   "cell_type": "code",
   "execution_count": null,
   "id": "a96ea227",
   "metadata": {},
   "outputs": [
    {
     "name": "stdout",
     "output_type": "stream",
     "text": [
      "================================================================================\n",
      "Tuned XGBoost - Test Set Evaluation\n",
      "================================================================================\n",
      "\n",
      "Precision: 0.0071\n",
      "Recall: 0.1818\n",
      "F1 Score: 0.0137\n",
      "ROC-AUC: 0.6980\n",
      "PR-AUC: 0.0261\n",
      "\n",
      "Classification Report:\n",
      "              precision    recall  f1-score   support\n",
      "\n",
      "           0       1.00      0.98      0.99     24281\n",
      "           1       0.01      0.18      0.01        22\n",
      "\n",
      "    accuracy                           0.98     24303\n",
      "   macro avg       0.50      0.58      0.50     24303\n",
      "weighted avg       1.00      0.98      0.99     24303\n",
      "\n"
     ]
    }
   ],
   "source": [
    "# 최적 모델로 Test 세트 평가\n",
    "best_xgb_model = xgb_random.best_estimator_\n",
    "\n",
    "y_test_pred_best = best_xgb_model.predict(X_test)\n",
    "y_test_pred_proba_best = best_xgb_model.predict_proba(X_test)[:, 1]\n",
    "\n",
    "print(\"=\"*80)\n",
    "print(\"Tuned XGBoost - Test Set Evaluation\")\n",
    "print(\"=\"*80)\n",
    "print(f\"\\nPrecision: {precision_score(y_test, y_test_pred_best):.4f}\")\n",
    "print(f\"Recall: {recall_score(y_test, y_test_pred_best):.4f}\")\n",
    "print(f\"F1 Score: {f1_score(y_test, y_test_pred_best):.4f}\")\n",
    "print(f\"ROC-AUC: {roc_auc_score(y_test, y_test_pred_proba_best):.4f}\")\n",
    "print(f\"PR-AUC: {average_precision_score(y_test, y_test_pred_proba_best):.4f}\")\n",
    "\n",
    "print(\"\\nClassification Report:\")\n",
    "print(classification_report(y_test, y_test_pred_best))"
   ]
  },
  {
   "cell_type": "markdown",
   "id": "6a445e1e",
   "metadata": {},
   "source": [
    "## 10. 최종 모델 저장"
   ]
  },
  {
   "cell_type": "code",
   "execution_count": null,
   "id": "ddbc1e57",
   "metadata": {},
   "outputs": [
    {
     "name": "stdout",
     "output_type": "stream",
     "text": [
      "Saved: ../models/xgboost_best.pkl\n",
      "Saved: ../models/lightgbm_baseline.pkl\n",
      "Saved: ../models/feature_cols.pkl\n"
     ]
    }
   ],
   "source": [
    "# 모델 저장\n",
    "import pickle\n",
    "from pathlib import Path\n",
    "\n",
    "model_dir = Path('../models')\n",
    "model_dir.mkdir(exist_ok=True)\n",
    "\n",
    "# Best XGBoost 모델 저장\n",
    "with open(model_dir / 'xgboost_best.pkl', 'wb') as f:\n",
    "    pickle.dump(best_xgb_model, f)\n",
    "print(f\"Saved: {model_dir / 'xgboost_best.pkl'}\")\n",
    "\n",
    "# LightGBM 모델 저장\n",
    "with open(model_dir / 'lightgbm_baseline.pkl', 'wb') as f:\n",
    "    pickle.dump(lgb_model, f)\n",
    "print(f\"Saved: {model_dir / 'lightgbm_baseline.pkl'}\")\n",
    "\n",
    "# Feature 목록 저장\n",
    "with open(model_dir / 'feature_cols.pkl', 'wb') as f:\n",
    "    pickle.dump(feature_cols, f)\n",
    "print(f\"Saved: {model_dir / 'feature_cols.pkl'}\")"
   ]
  },
  {
   "cell_type": "code",
   "execution_count": null,
   "id": "257b6a78",
   "metadata": {},
   "outputs": [
    {
     "name": "stdout",
     "output_type": "stream",
     "text": [
      "\n",
      "Saved: ../models/final_results.json\n"
     ]
    }
   ],
   "source": [
    "# 최종 결과 저장\n",
    "final_results = {\n",
    "    'model': 'XGBoost (Tuned)',\n",
    "    'test_precision': precision_score(y_test, y_test_pred_best),\n",
    "    'test_recall': recall_score(y_test, y_test_pred_best),\n",
    "    'test_f1': f1_score(y_test, y_test_pred_best),\n",
    "    'test_roc_auc': roc_auc_score(y_test, y_test_pred_proba_best),\n",
    "    'test_pr_auc': average_precision_score(y_test, y_test_pred_proba_best),\n",
    "    'best_params': xgb_random.best_params_,\n",
    "    'feature_count': len(feature_cols),\n",
    "    'train_samples': len(X_train_val),\n",
    "    'test_samples': len(X_test)\n",
    "}\n",
    "\n",
    "import json\n",
    "with open(model_dir / 'final_results.json', 'w') as f:\n",
    "    json.dump(final_results, f, indent=2)\n",
    "\n",
    "print(f\"\\nSaved: {model_dir / 'final_results.json'}\")"
   ]
  },
  {
   "cell_type": "markdown",
   "id": "69126bac",
   "metadata": {},
   "source": [
    "## 11. 결론\n",
    "\n",
    "### 완료된 작업\n",
    "1. ✅ 데이터 로드 및 전처리\n",
    "2. ✅ Train/Validation/Test Split (시계열 고려)\n",
    "3. ✅ XGBoost Baseline 모델\n",
    "4. ✅ LightGBM Baseline 모델\n",
    "5. ✅ 모델 비교 및 평가\n",
    "6. ✅ Feature Importance 분석\n",
    "7. ✅ SHAP Value 분석\n",
    "8. ✅ Hyperparameter Tuning\n",
    "9. ✅ 최종 모델 저장\n",
    "\n",
    "### 주요 결과\n",
    "- 불균형 데이터 문제를 `scale_pos_weight`로 해결\n",
    "- 시계열 특성을 고려한 데이터 분할\n",
    "- Feature importance와 SHAP을 통한 모델 해석\n",
    "- Hyperparameter tuning으로 성능 개선\n",
    "\n",
    "### 다음 단계\n",
    "- 더 많은 Feature Engineering\n",
    "- 앙상블 모델 (Stacking, Voting)\n",
    "- 비즈니스 메트릭 기반 임계값 조정\n",
    "- 프로덕션 배포 준비"
   ]
  },
  {
   "cell_type": "code",
   "execution_count": null,
   "id": "3b700fef",
   "metadata": {},
   "outputs": [
    {
     "name": "stdout",
     "output_type": "stream",
     "text": [
      "\n",
      "================================================================================\n",
      "MODEL TRAINING COMPLETED\n",
      "================================================================================\n",
      "\n",
      "Best Model: XGBoost (Tuned)\n",
      "Test ROC-AUC: 0.6980\n",
      "Test F1 Score: 0.0137\n",
      "\n",
      "Models saved to: ../models\n"
     ]
    }
   ],
   "source": [
    "print(\"\\n\" + \"=\"*80)\n",
    "print(\"MODEL TRAINING COMPLETED\")\n",
    "print(\"=\"*80)\n",
    "print(f\"\\nBest Model: XGBoost (Tuned)\")\n",
    "print(f\"Test ROC-AUC: {roc_auc_score(y_test, y_test_pred_proba_best):.4f}\")\n",
    "print(f\"Test F1 Score: {f1_score(y_test, y_test_pred_best):.4f}\")\n",
    "print(f\"\\nModels saved to: {model_dir}\")"
   ]
  }
 ],
 "metadata": {
  "kernelspec": {
   "display_name": "base",
   "language": "python",
   "name": "python3"
  },
  "language_info": {
   "codemirror_mode": {
    "name": "ipython",
    "version": 3
   },
   "file_extension": ".py",
   "mimetype": "text/x-python",
   "name": "python",
   "nbconvert_exporter": "python",
   "pygments_lexer": "ipython3",
   "version": "3.13.5"
  }
 },
 "nbformat": 4,
 "nbformat_minor": 5
}
